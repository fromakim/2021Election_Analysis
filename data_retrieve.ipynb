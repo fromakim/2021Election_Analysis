{
  "nbformat": 4,
  "nbformat_minor": 0,
  "metadata": {
    "colab": {
      "name": "data-retrieve.ipynb",
      "provenance": [],
      "authorship_tag": "ABX9TyMf7zttFzB7VbLHfbzQuISN",
      "include_colab_link": true
    },
    "kernelspec": {
      "name": "python3",
      "display_name": "Python 3"
    },
    "language_info": {
      "name": "python"
    }
  },
  "cells": [
    {
      "cell_type": "markdown",
      "metadata": {
        "id": "view-in-github",
        "colab_type": "text"
      },
      "source": [
        "<a href=\"https://colab.research.google.com/github/fromakim/2021Election_Analysis/blob/main/data_retrieve.ipynb\" target=\"_parent\"><img src=\"https://colab.research.google.com/assets/colab-badge.svg\" alt=\"Open In Colab\"/></a>"
      ]
    },
    {
      "cell_type": "markdown",
      "metadata": {
        "id": "oFjwy_2L1cCo"
      },
      "source": [
        "# Data Retrieve\n",
        "\n",
        "대선 주자들에 대한 Twitter Data 수집"
      ]
    },
    {
      "cell_type": "markdown",
      "metadata": {
        "id": "jW_uPG8l2mgb"
      },
      "source": [
        "## 0. Import Packages"
      ]
    },
    {
      "cell_type": "code",
      "metadata": {
        "id": "nSpQd6GK7Eid"
      },
      "source": [
        "import boto3\n",
        "import json\n",
        "import pprint\n",
        "import requests\n",
        "from datetime import datetime, timedelta"
      ],
      "execution_count": null,
      "outputs": []
    },
    {
      "cell_type": "code",
      "metadata": {
        "id": "RtbXX4SV3qsI"
      },
      "source": [
        "import numpy as np\n",
        "import pandas as pd"
      ],
      "execution_count": null,
      "outputs": []
    },
    {
      "cell_type": "markdown",
      "metadata": {
        "id": "pmmKMw4M4rwg"
      },
      "source": [
        "## 1. Define Constants"
      ]
    },
    {
      "cell_type": "code",
      "metadata": {
        "id": "BygWojOk4raZ"
      },
      "source": [
        "candidates = [\n",
        "    '이재명',           # 더불어민주당\n",
        "    '윤석열',           # 국민의 힘\n",
        "    '심상정',           # 정의당\n",
        "    '안철수',           # 국민의 \n",
        "]"
      ],
      "execution_count": null,
      "outputs": []
    },
    {
      "cell_type": "code",
      "metadata": {
        "id": "S_0UJXb1pBnd"
      },
      "source": [
        "s3 = boto3.client('s3')"
      ],
      "execution_count": null,
      "outputs": []
    },
    {
      "cell_type": "markdown",
      "metadata": {
        "id": "L1SYni8a7IX1"
      },
      "source": [
        "## 2. Key Settings"
      ]
    },
    {
      "cell_type": "code",
      "metadata": {
        "id": "_SJfBHCY23IN"
      },
      "source": [
        "f = open('./key.json')\n",
        "keys = json.load(f)"
      ],
      "execution_count": null,
      "outputs": []
    },
    {
      "cell_type": "code",
      "metadata": {
        "id": "eBnHYPgO7tFy"
      },
      "source": [
        "api_key = keys['api_key']\n",
        "api_secret_key = keys['api_secret_key']\n",
        "bearer_token = keys['bearer_token']\n",
        "app_id = keys['app_id']"
      ],
      "execution_count": null,
      "outputs": []
    },
    {
      "cell_type": "markdown",
      "metadata": {
        "id": "Nb15y7Fz7xeR"
      },
      "source": [
        "## 3. Sample Test"
      ]
    },
    {
      "cell_type": "code",
      "metadata": {
        "id": "AiBBRhFn7w82"
      },
      "source": [
        "headers = {\"Authorization\" : f\"Bearer {bearer_token}\"}\n",
        "# url = \"https://api.twitter.com/2/tweets/search/recent?max_results=100&query=from:TwitterDev\"\n",
        "# response = requests.request(\"GET\", url, headers=headers).json()"
      ],
      "execution_count": null,
      "outputs": []
    },
    {
      "cell_type": "code",
      "metadata": {
        "colab": {
          "base_uri": "https://localhost:8080/",
          "height": 173
        },
        "id": "dfZTtfVu72__",
        "outputId": "c632d1b2-9b29-47b5-87eb-7e705cc6f97e"
      },
      "source": [
        "# df = pd.DataFrame(response['data'])\n",
        "# df.head()"
      ],
      "execution_count": null,
      "outputs": [
        {
          "output_type": "execute_result",
          "data": {
            "text/html": [
              "<div>\n",
              "<style scoped>\n",
              "    .dataframe tbody tr th:only-of-type {\n",
              "        vertical-align: middle;\n",
              "    }\n",
              "\n",
              "    .dataframe tbody tr th {\n",
              "        vertical-align: top;\n",
              "    }\n",
              "\n",
              "    .dataframe thead th {\n",
              "        text-align: right;\n",
              "    }\n",
              "</style>\n",
              "<table border=\"1\" class=\"dataframe\">\n",
              "  <thead>\n",
              "    <tr style=\"text-align: right;\">\n",
              "      <th></th>\n",
              "      <th>id</th>\n",
              "      <th>text</th>\n",
              "    </tr>\n",
              "  </thead>\n",
              "  <tbody>\n",
              "    <tr>\n",
              "      <th>0</th>\n",
              "      <td>1451609611455242241</td>\n",
              "      <td>Join us on Friday October 29th at 2 pm ET for ...</td>\n",
              "    </tr>\n",
              "    <tr>\n",
              "      <th>1</th>\n",
              "      <td>1451533812022726666</td>\n",
              "      <td>Introducing the Twitter Developer Insider Prog...</td>\n",
              "    </tr>\n",
              "    <tr>\n",
              "      <th>2</th>\n",
              "      <td>1450948615413788677</td>\n",
              "      <td>SET YOUR REMINDER!  Join @i_am_daniele on 10/2...</td>\n",
              "    </tr>\n",
              "    <tr>\n",
              "      <th>3</th>\n",
              "      <td>1449982379657875460</td>\n",
              "      <td>RT @chizom_: I need Devs and Mental Health exp...</td>\n",
              "    </tr>\n",
              "  </tbody>\n",
              "</table>\n",
              "</div>"
            ],
            "text/plain": [
              "                    id                                               text\n",
              "0  1451609611455242241  Join us on Friday October 29th at 2 pm ET for ...\n",
              "1  1451533812022726666  Introducing the Twitter Developer Insider Prog...\n",
              "2  1450948615413788677  SET YOUR REMINDER!  Join @i_am_daniele on 10/2...\n",
              "3  1449982379657875460  RT @chizom_: I need Devs and Mental Health exp..."
            ]
          },
          "metadata": {},
          "execution_count": 10
        }
      ]
    },
    {
      "cell_type": "markdown",
      "metadata": {
        "id": "I1iYgfQQ_bxH"
      },
      "source": [
        "## 4. Twitter API Call Config"
      ]
    },
    {
      "cell_type": "code",
      "metadata": {
        "id": "XLw9wxDe78sy"
      },
      "source": [
        "endpoint = 'https://api.twitter.com/2/tweets/search/recent'\n",
        "yesterday = datetime.now() - timedelta(days = 1)"
      ],
      "execution_count": null,
      "outputs": []
    },
    {
      "cell_type": "code",
      "metadata": {
        "id": "v0iXQNWwTBqp"
      },
      "source": [
        "expansions = ['attachments.poll_ids', 'attachments.media_keys', 'author_id', 'entities.mentions.username', 'geo.place_id', 'in_reply_to_user_id', 'referenced_tweets.id', 'referenced_tweets.id.author_id']\n",
        "media_fields = ['duration_ms', 'height', 'media_key', 'preview_image_url', 'type', 'url', 'width', 'public_metrics', 'alt_text']\n",
        "place_fields = ['contained_within', 'country', 'country_code', 'full_name', 'geo', 'id', 'name', 'place_type']\n",
        "poll_fields = ['duration_minutes', 'end_datetime', 'id', 'options', 'voting_status']\n",
        "tweet_fields = ['attachments', 'author_id', 'context_annotations', 'conversation_id', 'created_at', 'entities', 'geo', 'id', 'in_reply_to_user_id', 'lang', 'public_metrics', 'possibly_sensitive', 'referenced_tweets', 'reply_settings', 'source', 'text', 'withheld']\n",
        "user_fields = ['created_at', 'description', 'entities', 'id', 'location', 'name', 'pinned_tweet_id', 'profile_image_url', 'protected', 'public_metrics', 'url', 'username', 'verified', 'withheld']"
      ],
      "execution_count": null,
      "outputs": []
    },
    {
      "cell_type": "code",
      "metadata": {
        "id": "XtcGaVAs_4iA"
      },
      "source": [
        "params = {\n",
        "    # 'query': '',\n",
        "    'start_time': yesterday.strftime(\"%Y-%m-%dT00:00:00Z\"),\n",
        "    'end_time': yesterday.strftime(\"%Y-%m-%dT23:59:59Z\"),\n",
        "    'max_results': '100',\n",
        "    'expansions': ','.join(expansions),\n",
        "    'media.fields': ','.join(media_fields),\n",
        "    'place.fields': ','.join(place_fields),\n",
        "    'poll.fields': ','.join(poll_fields),\n",
        "    'tweet.fields': ','.join(tweet_fields),\n",
        "    'user.fields': ','.join(user_fields)\n",
        "}"
      ],
      "execution_count": null,
      "outputs": []
    },
    {
      "cell_type": "code",
      "metadata": {
        "id": "5DWuLcgNCAMl",
        "colab": {
          "base_uri": "https://localhost:8080/"
        },
        "outputId": "3c91c47e-7698-4009-f8e6-ef31308004c2"
      },
      "source": [
        "options = '&'.join([key + '=' + params[key] for key in params])"
      ],
      "execution_count": null,
      "outputs": [
        {
          "output_type": "execute_result",
          "data": {
            "text/plain": [
              "{'end_time': '2021-10-23T23:59:59Z',\n",
              " 'expansions': 'attachments.poll_ids,attachments.media_keys,author_id,entities.mentions.username,geo.place_id,in_reply_to_user_id,referenced_tweets.id,referenced_tweets.id.author_id',\n",
              " 'max_results': '10',\n",
              " 'media.fields': 'duration_ms,height,media_key,preview_image_url,type,url,width,public_metrics,alt_text',\n",
              " 'place.fields': 'contained_within,country,country_code,full_name,geo,id,name,place_type',\n",
              " 'poll.fields': 'duration_minutes,end_datetime,id,options,voting_status',\n",
              " 'start_time': '2021-10-23T00:00:00Z',\n",
              " 'tweet.fields': 'attachments,author_id,context_annotations,conversation_id,created_at,entities,geo,id,in_reply_to_user_id,lang,public_metrics,possibly_sensitive,referenced_tweets,reply_settings,source,text,withheld',\n",
              " 'user.fields': 'created_at,description,entities,id,location,name,pinned_tweet_id,profile_image_url,protected,public_metrics,url,username,verified,withheld'}"
            ]
          },
          "metadata": {},
          "execution_count": 75
        }
      ]
    },
    {
      "cell_type": "markdown",
      "metadata": {
        "id": "dXbvol38OQo7"
      },
      "source": [
        "## 5. Get Data Files"
      ]
    },
    {
      "cell_type": "code",
      "metadata": {
        "id": "lOmgUapeEBOP"
      },
      "source": [
        "for cand in candidates:\n",
        "        print(f'Collecting {cand}\\'s tweets')\n",
        "        \n",
        "        index = 0\n",
        "        \n",
        "        while True:\n",
        "            res = requests.get(endpoint + f'?query={cand}&' + options, headers = headers).json()\n",
        "            s3.put_object(Bucket = 'electiondatafile', Key = f'{cand}/{yesterday.strftime(\"%Y-%m-%d\")}/data{index:02d}.json', Body = json.dumps(res))\n",
        "            \n",
        "            if 'next_token' in res['meta']:\n",
        "                params['next_token'] = res['meta']['next_token']\n",
        "                options = '&'.join([key + '=' + params[key] for key in params])\n",
        "                index = index + 1\n",
        "                \n",
        "                if index == 40:\n",
        "                    break\n",
        "                \n",
        "                continue\n",
        "            else:\n",
        "                break"
      ],
      "execution_count": null,
      "outputs": []
    }
  ]
}