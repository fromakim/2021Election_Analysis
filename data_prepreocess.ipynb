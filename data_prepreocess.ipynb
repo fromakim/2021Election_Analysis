{
  "nbformat": 4,
  "nbformat_minor": 0,
  "metadata": {
    "colab": {
      "name": "prepreocess.ipynb",
      "provenance": [],
      "authorship_tag": "ABX9TyOfb7/w+BKtitYa+mrYaGDS",
      "include_colab_link": true
    },
    "kernelspec": {
      "name": "python3",
      "display_name": "Python 3"
    },
    "language_info": {
      "name": "python"
    }
  },
  "cells": [
    {
      "cell_type": "markdown",
      "metadata": {
        "id": "view-in-github",
        "colab_type": "text"
      },
      "source": [
        "<a href=\"https://colab.research.google.com/github/fromakim/2021Election_Analysis/blob/main/data_prepreocess.ipynb\" target=\"_parent\"><img src=\"https://colab.research.google.com/assets/colab-badge.svg\" alt=\"Open In Colab\"/></a>"
      ]
    },
    {
      "cell_type": "code",
      "metadata": {
        "id": "xoQH4WA8ELJv",
        "colab": {
          "base_uri": "https://localhost:8080/"
        },
        "outputId": "123803a5-cf26-463a-b6b8-71206d95f709"
      },
      "source": [
        "!pip install flatten_json"
      ],
      "execution_count": 8,
      "outputs": [
        {
          "output_type": "stream",
          "name": "stdout",
          "text": [
            "Requirement already satisfied: flatten_json in /usr/local/lib/python3.7/dist-packages (0.1.13)\n",
            "Requirement already satisfied: six in /usr/local/lib/python3.7/dist-packages (from flatten_json) (1.15.0)\n"
          ]
        }
      ]
    },
    {
      "cell_type": "code",
      "metadata": {
        "id": "5xn2Fz2vwTEV"
      },
      "source": [
        "import itertools\n",
        "import json"
      ],
      "execution_count": 9,
      "outputs": []
    },
    {
      "cell_type": "code",
      "metadata": {
        "id": "O8nmhnySt8Yp"
      },
      "source": [
        "import numpy as np\n",
        "import pandas as pd"
      ],
      "execution_count": 10,
      "outputs": []
    },
    {
      "cell_type": "code",
      "metadata": {
        "id": "Y0VQ8yp6BkTY"
      },
      "source": [
        "from flatten_json import flatten"
      ],
      "execution_count": 11,
      "outputs": []
    },
    {
      "cell_type": "code",
      "metadata": {
        "id": "dYh11E4Ay-L5"
      },
      "source": [
        "data = []"
      ],
      "execution_count": 12,
      "outputs": []
    },
    {
      "cell_type": "code",
      "metadata": {
        "id": "JEiLiEwSwUCd"
      },
      "source": [
        "for i in range(2):\n",
        "    f = open(f'./data{i:02}.json', encoding = 'utf-8')\n",
        "    data.append(json.load(f))"
      ],
      "execution_count": 13,
      "outputs": []
    },
    {
      "cell_type": "code",
      "metadata": {
        "id": "ii1mYo7BBTZl"
      },
      "source": [
        "users = pd.DataFrame([flatten(d, root_keys_to_ignore = {'public_metrics', 'entities'}) for d in data[0]['includes']['users']])"
      ],
      "execution_count": 14,
      "outputs": []
    },
    {
      "cell_type": "code",
      "metadata": {
        "id": "p80NfOKGDb9o"
      },
      "source": [
        "medias = pd.DataFrame([flatten(d) for d in data[0]['includes']['media']])"
      ],
      "execution_count": 15,
      "outputs": []
    },
    {
      "cell_type": "code",
      "metadata": {
        "id": "C2E7hNYjD0lP"
      },
      "source": [
        "tweets = pd.DataFrame([flatten(d, root_keys_to_ignore = {'referenced_tweets', 'public_metrics', 'in_reply_to_user_id', 'attachments', 'entities', 'context_annotations', 'attachments'}) for d in data[0]['includes']['tweets']])"
      ],
      "execution_count": 16,
      "outputs": []
    },
    {
      "cell_type": "code",
      "metadata": {
        "id": "VW6O1lCeKumL"
      },
      "source": [
        "user_relations = pd.json_normalize(data[0]['includes']['users'])[['entities.url.urls', 'entities.description.urls', 'entities.description.mentions', 'entities.description.hashtags']].head()"
      ],
      "execution_count": 17,
      "outputs": []
    },
    {
      "cell_type": "code",
      "metadata": {
        "id": "55QP7yvkR_L5"
      },
      "source": [
        "tweet_relations = pd.json_normalize(data[0]['includes']['tweets'])[['referenced_tweets', 'entities.urls', 'in_reply_to_user_id']]"
      ],
      "execution_count": 18,
      "outputs": []
    },
    {
      "cell_type": "code",
      "metadata": {
        "id": "YRxRE9pwULr3",
        "colab": {
          "base_uri": "https://localhost:8080/"
        },
        "outputId": "7a6fb59d-1f52-40a3-e861-45ed001ddfea"
      },
      "source": [
        "# https://developer.twitter.com/en/docs/twitter-api/users/lookup/api-reference/get-users\n",
        "user_relations.columns"
      ],
      "execution_count": 19,
      "outputs": [
        {
          "output_type": "execute_result",
          "data": {
            "text/plain": [
              "Index(['entities.url.urls', 'entities.description.urls',\n",
              "       'entities.description.mentions', 'entities.description.hashtags'],\n",
              "      dtype='object')"
            ]
          },
          "metadata": {},
          "execution_count": 19
        }
      ]
    },
    {
      "cell_type": "code",
      "metadata": {
        "id": "IHlmZ9Yrc9is",
        "colab": {
          "base_uri": "https://localhost:8080/"
        },
        "outputId": "037f35ed-3f9b-4dbc-c8a7-d56f56ff58d2"
      },
      "source": [
        "# https://developer.twitter.com/en/docs/twitter-api/tweets/lookup/api-reference/get-tweets\n",
        "tweet_relations.columns"
      ],
      "execution_count": 20,
      "outputs": [
        {
          "output_type": "execute_result",
          "data": {
            "text/plain": [
              "Index(['referenced_tweets', 'entities.urls', 'in_reply_to_user_id'], dtype='object')"
            ]
          },
          "metadata": {},
          "execution_count": 20
        }
      ]
    },
    {
      "cell_type": "code",
      "metadata": {
        "id": "e5MnzqZDH9wX"
      },
      "source": [
        "relation_url_url = pd.json_normalize(user_relations['entities.url.urls'].apply(pd.Series).stack().reset_index(drop = True))"
      ],
      "execution_count": 30,
      "outputs": []
    },
    {
      "cell_type": "code",
      "metadata": {
        "id": "NcTq4xVpJaLo"
      },
      "source": [
        "relation_url_description = pd.json_normalize(user_relations['entities.description.urls'].apply(pd.Series).stack().reset_index(drop = True))"
      ],
      "execution_count": 32,
      "outputs": []
    },
    {
      "cell_type": "code",
      "metadata": {
        "id": "Y_MboMLHJf4Z"
      },
      "source": [
        "relation_mention = pd.json_normalize(user_relations['entities.description.mentions'].apply(pd.Series).stack().reset_index(drop = True))"
      ],
      "execution_count": 36,
      "outputs": []
    },
    {
      "cell_type": "code",
      "metadata": {
        "id": "mxCFrvGDJvA6"
      },
      "source": [
        "relation_hashtag = pd.json_normalize(user_relations['entities.description.hashtags'].apply(pd.Series).stack().reset_index(drop = True))"
      ],
      "execution_count": 37,
      "outputs": []
    }
  ]
}