{
  "nbformat": 4,
  "nbformat_minor": 0,
  "metadata": {
    "colab": {
      "name": "prepreocess.ipynb",
      "provenance": [],
      "authorship_tag": "ABX9TyMxEL3EbCt4EssNuZFtovPO",
      "include_colab_link": true
    },
    "kernelspec": {
      "name": "python3",
      "display_name": "Python 3"
    },
    "language_info": {
      "name": "python"
    }
  },
  "cells": [
    {
      "cell_type": "markdown",
      "metadata": {
        "id": "view-in-github",
        "colab_type": "text"
      },
      "source": [
        "<a href=\"https://colab.research.google.com/github/fromakim/2021Election_Analysis/blob/main/data_prepreocess.ipynb\" target=\"_parent\"><img src=\"https://colab.research.google.com/assets/colab-badge.svg\" alt=\"Open In Colab\"/></a>"
      ]
    },
    {
      "cell_type": "code",
      "metadata": {
        "id": "xoQH4WA8ELJv",
        "colab": {
          "base_uri": "https://localhost:8080/"
        },
        "outputId": "ba74b7d9-fe0f-4e47-89d2-b78875cd5904"
      },
      "source": [
        "!pip install flatten_json"
      ],
      "execution_count": 1,
      "outputs": [
        {
          "output_type": "stream",
          "name": "stdout",
          "text": [
            "Collecting flatten_json\n",
            "  Downloading flatten_json-0.1.13.tar.gz (11 kB)\n",
            "Requirement already satisfied: six in /usr/local/lib/python3.7/dist-packages (from flatten_json) (1.15.0)\n",
            "Building wheels for collected packages: flatten-json\n",
            "  Building wheel for flatten-json (setup.py) ... \u001b[?25l\u001b[?25hdone\n",
            "  Created wheel for flatten-json: filename=flatten_json-0.1.13-py3-none-any.whl size=7980 sha256=8f12b0cc00d2e5dd04f6ea8e3cee7208ad4210a1c52768149d0ebe4ae59038e2\n",
            "  Stored in directory: /root/.cache/pip/wheels/e6/b3/2a/beb2ceb72d11bf335f9c2f87aae26981f6744f3fc885cde665\n",
            "Successfully built flatten-json\n",
            "Installing collected packages: flatten-json\n",
            "Successfully installed flatten-json-0.1.13\n"
          ]
        }
      ]
    },
    {
      "cell_type": "code",
      "metadata": {
        "id": "5xn2Fz2vwTEV"
      },
      "source": [
        "import itertools\n",
        "import json"
      ],
      "execution_count": 2,
      "outputs": []
    },
    {
      "cell_type": "code",
      "metadata": {
        "id": "O8nmhnySt8Yp"
      },
      "source": [
        "import pandas as pd"
      ],
      "execution_count": 3,
      "outputs": []
    },
    {
      "cell_type": "code",
      "metadata": {
        "id": "Y0VQ8yp6BkTY"
      },
      "source": [
        "from flatten_json import flatten"
      ],
      "execution_count": 4,
      "outputs": []
    },
    {
      "cell_type": "code",
      "metadata": {
        "id": "dYh11E4Ay-L5"
      },
      "source": [
        "data = []"
      ],
      "execution_count": 5,
      "outputs": []
    },
    {
      "cell_type": "code",
      "metadata": {
        "id": "JEiLiEwSwUCd"
      },
      "source": [
        "for i in range(2):\n",
        "    f = open(f'./data{i:02}.json', encoding = 'utf-8')\n",
        "    data.append(json.load(f))"
      ],
      "execution_count": 7,
      "outputs": []
    },
    {
      "cell_type": "code",
      "metadata": {
        "id": "ii1mYo7BBTZl"
      },
      "source": [
        "users = pd.DataFrame([flatten(d, root_keys_to_ignore = {'public_metrics', 'entities'}) for d in data[0]['includes']['users']])"
      ],
      "execution_count": 8,
      "outputs": []
    },
    {
      "cell_type": "code",
      "metadata": {
        "id": "p80NfOKGDb9o"
      },
      "source": [
        "medias = pd.DataFrame([flatten(d) for d in data[0]['includes']['media']])"
      ],
      "execution_count": 9,
      "outputs": []
    },
    {
      "cell_type": "code",
      "metadata": {
        "id": "C2E7hNYjD0lP"
      },
      "source": [
        "tweets = pd.DataFrame([flatten(d, root_keys_to_ignore = {'referenced_tweets', 'public_metrics', 'in_reply_to_user_id', 'attachments', 'entities', 'context_annotations', 'attachments'}) for d in data[0]['includes']['tweets']])"
      ],
      "execution_count": 10,
      "outputs": []
    },
    {
      "cell_type": "code",
      "metadata": {
        "id": "VW6O1lCeKumL"
      },
      "source": [
        "user_relations = pd.json_normalize(data[0]['includes']['users'])[['entities.url.urls', 'entities.description.urls', 'entities.description.mentions', 'entities.description.hashtags']].head()"
      ],
      "execution_count": 14,
      "outputs": []
    },
    {
      "cell_type": "code",
      "metadata": {
        "id": "55QP7yvkR_L5"
      },
      "source": [
        "tweet_relations = pd.json_normalize(data[0]['includes']['tweets'])[['referenced_tweets', 'entities.urls', 'in_reply_to_user_id']]"
      ],
      "execution_count": 15,
      "outputs": []
    }
  ]
}