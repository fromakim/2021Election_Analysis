{
  "nbformat": 4,
  "nbformat_minor": 0,
  "metadata": {
    "colab": {
      "name": "prepreocess.ipynb",
      "provenance": [],
      "authorship_tag": "ABX9TyOhDx47kUBH1UAG4IcaEBEg",
      "include_colab_link": true
    },
    "kernelspec": {
      "name": "python3",
      "display_name": "Python 3"
    },
    "language_info": {
      "name": "python"
    }
  },
  "cells": [
    {
      "cell_type": "markdown",
      "metadata": {
        "id": "view-in-github",
        "colab_type": "text"
      },
      "source": [
        "<a href=\"https://colab.research.google.com/github/fromakim/2021Election_Analysis/blob/main/data_prepreocess.ipynb\" target=\"_parent\"><img src=\"https://colab.research.google.com/assets/colab-badge.svg\" alt=\"Open In Colab\"/></a>"
      ]
    },
    {
      "cell_type": "code",
      "metadata": {
        "id": "xoQH4WA8ELJv",
        "colab": {
          "base_uri": "https://localhost:8080/"
        },
        "outputId": "121f5b0e-a54a-4fa4-c778-eabb3974579d"
      },
      "source": [
        "!pip install flatten_json"
      ],
      "execution_count": 2,
      "outputs": [
        {
          "output_type": "stream",
          "name": "stdout",
          "text": [
            "Collecting flatten_json\n",
            "  Downloading flatten_json-0.1.13.tar.gz (11 kB)\n",
            "Requirement already satisfied: six in /usr/local/lib/python3.7/dist-packages (from flatten_json) (1.15.0)\n",
            "Building wheels for collected packages: flatten-json\n",
            "  Building wheel for flatten-json (setup.py) ... \u001b[?25l\u001b[?25hdone\n",
            "  Created wheel for flatten-json: filename=flatten_json-0.1.13-py3-none-any.whl size=7980 sha256=eafbff0ea79a377eca1681317f1df852a264f9ef50e53572b557ac9af5b08d0c\n",
            "  Stored in directory: /root/.cache/pip/wheels/e6/b3/2a/beb2ceb72d11bf335f9c2f87aae26981f6744f3fc885cde665\n",
            "Successfully built flatten-json\n",
            "Installing collected packages: flatten-json\n",
            "Successfully installed flatten-json-0.1.13\n"
          ]
        }
      ]
    },
    {
      "cell_type": "code",
      "metadata": {
        "id": "5xn2Fz2vwTEV"
      },
      "source": [
        "import itertools\n",
        "import json"
      ],
      "execution_count": 1,
      "outputs": []
    },
    {
      "cell_type": "code",
      "metadata": {
        "id": "O8nmhnySt8Yp"
      },
      "source": [
        "import numpy as np\n",
        "import pandas as pd"
      ],
      "execution_count": 3,
      "outputs": []
    },
    {
      "cell_type": "code",
      "metadata": {
        "id": "Y0VQ8yp6BkTY"
      },
      "source": [
        "from flatten_json import flatten"
      ],
      "execution_count": 4,
      "outputs": []
    },
    {
      "cell_type": "code",
      "metadata": {
        "id": "dYh11E4Ay-L5"
      },
      "source": [
        "data = []"
      ],
      "execution_count": 64,
      "outputs": []
    },
    {
      "cell_type": "code",
      "metadata": {
        "id": "JEiLiEwSwUCd"
      },
      "source": [
        "for i in range(11):\n",
        "    f = open(f'./data{i:02}.json', encoding = 'utf-8')\n",
        "    data.append(json.load(f))"
      ],
      "execution_count": 65,
      "outputs": []
    },
    {
      "cell_type": "code",
      "metadata": {
        "id": "ii1mYo7BBTZl"
      },
      "source": [
        "users = pd.concat([pd.DataFrame([flatten(i, root_keys_to_ignore = {'public_metrics', 'entities'}) for i in item['includes']['users']]) for item in data]).reset_index(drop = True)"
      ],
      "execution_count": 66,
      "outputs": []
    },
    {
      "cell_type": "code",
      "metadata": {
        "id": "p80NfOKGDb9o"
      },
      "source": [
        "medias = pd.concat([pd.DataFrame([flatten(i) for i in item['includes']['media']]) if 'media' in item['includes'] else pd.DataFrame() for item in data]).reset_index(drop = True)"
      ],
      "execution_count": 67,
      "outputs": []
    },
    {
      "cell_type": "code",
      "metadata": {
        "id": "C2E7hNYjD0lP"
      },
      "source": [
        "tweets = pd.concat([pd.DataFrame([flatten(i, root_keys_to_ignore = {'referenced_tweets', 'public_metrics', 'in_reply_to_user_id', 'attachments', 'entities', 'context_annotations', 'attachments'}) for i in item['includes']['tweets']]) for item in data]).reset_index(drop = True)"
      ],
      "execution_count": 68,
      "outputs": []
    },
    {
      "cell_type": "code",
      "metadata": {
        "id": "VW6O1lCeKumL"
      },
      "source": [
        "user_relations = pd.concat([pd.json_normalize(d['includes']['users']) for d in data]).reset_index(drop = True)[['id', 'entities.url.urls', 'entities.description.urls', 'entities.description.mentions', 'entities.description.hashtags']]"
      ],
      "execution_count": 103,
      "outputs": []
    },
    {
      "cell_type": "code",
      "metadata": {
        "id": "55QP7yvkR_L5"
      },
      "source": [
        "tweet_relations = pd.concat([pd.json_normalize(d['includes']['tweets']) for d in data])[['referenced_tweets', 'entities.urls', 'in_reply_to_user_id']].reset_index(drop = True)"
      ],
      "execution_count": 91,
      "outputs": []
    },
    {
      "cell_type": "code",
      "metadata": {
        "id": "YRxRE9pwULr3",
        "colab": {
          "base_uri": "https://localhost:8080/"
        },
        "outputId": "8cc7d2e4-5678-4c48-cda3-db393cc73856"
      },
      "source": [
        "# https://developer.twitter.com/en/docs/twitter-api/users/lookup/api-reference/get-users\n",
        "user_relations.columns"
      ],
      "execution_count": 104,
      "outputs": [
        {
          "output_type": "execute_result",
          "data": {
            "text/plain": [
              "Index(['id', 'entities.url.urls', 'entities.description.urls',\n",
              "       'entities.description.mentions', 'entities.description.hashtags'],\n",
              "      dtype='object')"
            ]
          },
          "metadata": {},
          "execution_count": 104
        }
      ]
    },
    {
      "cell_type": "code",
      "metadata": {
        "id": "IHlmZ9Yrc9is",
        "colab": {
          "base_uri": "https://localhost:8080/"
        },
        "outputId": "9b50616a-aae7-40f3-e976-fcf3aa4ba606"
      },
      "source": [
        "# https://developer.twitter.com/en/docs/twitter-api/tweets/lookup/api-reference/get-tweets\n",
        "tweet_relations.columns"
      ],
      "execution_count": 95,
      "outputs": [
        {
          "output_type": "execute_result",
          "data": {
            "text/plain": [
              "Index(['referenced_tweets', 'entities.urls', 'in_reply_to_user_id'], dtype='object')"
            ]
          },
          "metadata": {},
          "execution_count": 95
        }
      ]
    },
    {
      "cell_type": "code",
      "metadata": {
        "id": "e5MnzqZDH9wX"
      },
      "source": [
        "relation_url_url = user_relations[['id', 'entities.url.urls']].dropna().explode('entities.url.urls')\n",
        "relation_url_url = pd.concat([relation_url_url, relation_url_url['entities.url.urls'].apply(pd.Series)], axis = 1)\n",
        "relation_url_url = relation_url_url.drop(columns = 'entities.url.urls').reset_index(drop = True)"
      ],
      "execution_count": 160,
      "outputs": []
    },
    {
      "cell_type": "code",
      "metadata": {
        "id": "NcTq4xVpJaLo"
      },
      "source": [
        "relation_url_description = user_relations[['id', 'entities.description.urls']].dropna().explode('entities.description.urls')\n",
        "relation_url_description = pd.concat([relation_url_description, relation_url_description['entities.description.urls'].apply(pd.Series)], axis = 1)\n",
        "relation_url_description = relation_url_description.drop(columns = 'entities.description.urls').reset_index(drop = True)"
      ],
      "execution_count": 161,
      "outputs": []
    },
    {
      "cell_type": "code",
      "metadata": {
        "id": "vlvMT0sRgNxn"
      },
      "source": [
        "relation_url = pd.concat([relation_url_url, relation_url_description]).reset_index(drop = True)"
      ],
      "execution_count": 165,
      "outputs": []
    },
    {
      "cell_type": "code",
      "metadata": {
        "id": "Y_MboMLHJf4Z"
      },
      "source": [
        "relation_mention = user_relations[['id', 'entities.description.mentions']].dropna().explode('entities.description.mentions')\n",
        "relation_mention = pd.concat([relation_mention, relation_mention['entities.description.mentions'].apply(pd.Series)], axis = 1)\n",
        "relation_mention = relation_mention.drop(columns = 'entities.description.mentions').reset_index(drop = True)"
      ],
      "execution_count": 168,
      "outputs": []
    },
    {
      "cell_type": "code",
      "metadata": {
        "id": "mxCFrvGDJvA6"
      },
      "source": [
        "relation_hashtag = user_relations[['id', 'entities.description.hashtags']].dropna().explode('entities.description.hashtags')\n",
        "relation_hashtag = pd.concat([relation_hashtag, relation_hashtag['entities.description.hashtags'].apply(pd.Series)], axis = 1)\n",
        "relation_hashtag = relation_hashtag.drop(columns = 'entities.description.hashtags').reset_index(drop = True)"
      ],
      "execution_count": 178,
      "outputs": []
    }
  ]
}