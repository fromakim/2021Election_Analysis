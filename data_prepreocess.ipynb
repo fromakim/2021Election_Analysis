{
  "nbformat": 4,
  "nbformat_minor": 0,
  "metadata": {
    "colab": {
      "name": "prepreocess.ipynb",
      "provenance": [],
      "authorship_tag": "ABX9TyPl/W+1bAvQHaF/ZkiIxBU2",
      "include_colab_link": true
    },
    "kernelspec": {
      "name": "python3",
      "display_name": "Python 3"
    },
    "language_info": {
      "name": "python"
    }
  },
  "cells": [
    {
      "cell_type": "markdown",
      "metadata": {
        "id": "view-in-github",
        "colab_type": "text"
      },
      "source": [
        "<a href=\"https://colab.research.google.com/github/fromakim/2021Election_Analysis/blob/main/data_prepreocess.ipynb\" target=\"_parent\"><img src=\"https://colab.research.google.com/assets/colab-badge.svg\" alt=\"Open In Colab\"/></a>"
      ]
    },
    {
      "cell_type": "markdown",
      "metadata": {
        "id": "c56CvaQZiSg5"
      },
      "source": [
        "# 1. Dev Environment"
      ]
    },
    {
      "cell_type": "code",
      "metadata": {
        "id": "xoQH4WA8ELJv",
        "colab": {
          "base_uri": "https://localhost:8080/"
        },
        "outputId": "d051147a-6c09-48b2-e462-8661a8523520"
      },
      "source": [
        "!pip install flatten_json"
      ],
      "execution_count": 2,
      "outputs": [
        {
          "output_type": "stream",
          "name": "stdout",
          "text": [
            "Requirement already satisfied: flatten_json in /usr/local/lib/python3.7/dist-packages (0.1.13)\n",
            "Requirement already satisfied: six in /usr/local/lib/python3.7/dist-packages (from flatten_json) (1.15.0)\n"
          ]
        }
      ]
    },
    {
      "cell_type": "code",
      "metadata": {
        "id": "5xn2Fz2vwTEV"
      },
      "source": [
        "import itertools\n",
        "import json\n",
        "import requests\n",
        "from urllib import parse\n",
        "from datetime import datetime, timedelta"
      ],
      "execution_count": 23,
      "outputs": []
    },
    {
      "cell_type": "code",
      "metadata": {
        "id": "O8nmhnySt8Yp"
      },
      "source": [
        "import numpy as np\n",
        "import pandas as pd"
      ],
      "execution_count": 4,
      "outputs": []
    },
    {
      "cell_type": "code",
      "metadata": {
        "id": "Y0VQ8yp6BkTY"
      },
      "source": [
        "from flatten_json import flatten"
      ],
      "execution_count": 5,
      "outputs": []
    },
    {
      "cell_type": "markdown",
      "metadata": {
        "id": "jiEttn-sieEk"
      },
      "source": [
        "# 2. Import Data"
      ]
    },
    {
      "cell_type": "code",
      "metadata": {
        "id": "dYh11E4Ay-L5"
      },
      "source": [
        "# Import Data\n",
        "data = []"
      ],
      "execution_count": 27,
      "outputs": []
    },
    {
      "cell_type": "code",
      "metadata": {
        "id": "JEiLiEwSwUCd"
      },
      "source": [
        "for i in range(100):\n",
        "    try:\n",
        "        f = open(f'./data{i:02}.json', encoding = 'utf-8')\n",
        "        data.append(json.load(f))\n",
        "    except Exception as e:\n",
        "        pass"
      ],
      "execution_count": 31,
      "outputs": []
    },
    {
      "cell_type": "markdown",
      "metadata": {
        "id": "CqqcQs33igVT"
      },
      "source": [
        "# 3. Organize User, Media, Tweet"
      ]
    },
    {
      "cell_type": "code",
      "metadata": {
        "id": "ii1mYo7BBTZl"
      },
      "source": [
        "users = pd.concat([pd.DataFrame([flatten(i, root_keys_to_ignore = {'public_metrics', 'entities'}) for i in item['includes']['users']]) for item in data]).reset_index(drop = True)"
      ],
      "execution_count": 32,
      "outputs": []
    },
    {
      "cell_type": "code",
      "metadata": {
        "id": "p80NfOKGDb9o"
      },
      "source": [
        "medias = pd.concat([pd.DataFrame([flatten(i) for i in item['includes']['media']]) if 'media' in item['includes'] else pd.DataFrame() for item in data]).reset_index(drop = True)"
      ],
      "execution_count": 33,
      "outputs": []
    },
    {
      "cell_type": "code",
      "metadata": {
        "id": "C2E7hNYjD0lP"
      },
      "source": [
        "tweets = pd.concat([pd.DataFrame([flatten(i, root_keys_to_ignore = {'referenced_tweets', 'public_metrics', 'in_reply_to_user_id', 'attachments', 'entities', 'context_annotations', 'attachments'}) for i in item['includes']['tweets']]) for item in data]).reset_index(drop = True)"
      ],
      "execution_count": 34,
      "outputs": []
    },
    {
      "cell_type": "markdown",
      "metadata": {
        "id": "dgwKATaDimPz"
      },
      "source": [
        "# 4. Organize overall Relation"
      ]
    },
    {
      "cell_type": "code",
      "metadata": {
        "id": "VW6O1lCeKumL"
      },
      "source": [
        "user_relations = pd.concat([pd.json_normalize(d['includes']['users']) for d in data]).reset_index(drop = True)[['id', 'entities.url.urls', 'entities.description.urls', 'entities.description.mentions', 'entities.description.hashtags']]"
      ],
      "execution_count": 35,
      "outputs": []
    },
    {
      "cell_type": "code",
      "metadata": {
        "id": "55QP7yvkR_L5"
      },
      "source": [
        "tweet_relations = pd.concat([pd.json_normalize(d['includes']['tweets']) for d in data])[['referenced_tweets', 'entities.urls', 'in_reply_to_user_id']].reset_index(drop = True)"
      ],
      "execution_count": 36,
      "outputs": []
    },
    {
      "cell_type": "code",
      "metadata": {
        "id": "YRxRE9pwULr3",
        "colab": {
          "base_uri": "https://localhost:8080/"
        },
        "outputId": "df5fb0e9-7e81-48c2-cfb4-7314132fbade"
      },
      "source": [
        "# https://developer.twitter.com/en/docs/twitter-api/users/lookup/api-reference/get-users\n",
        "user_relations.columns"
      ],
      "execution_count": 37,
      "outputs": [
        {
          "output_type": "execute_result",
          "data": {
            "text/plain": [
              "Index(['id', 'entities.url.urls', 'entities.description.urls',\n",
              "       'entities.description.mentions', 'entities.description.hashtags'],\n",
              "      dtype='object')"
            ]
          },
          "metadata": {},
          "execution_count": 37
        }
      ]
    },
    {
      "cell_type": "code",
      "metadata": {
        "id": "IHlmZ9Yrc9is",
        "colab": {
          "base_uri": "https://localhost:8080/"
        },
        "outputId": "9a52ba9a-3ce2-4d74-8ef8-8a278b982313"
      },
      "source": [
        "# https://developer.twitter.com/en/docs/twitter-api/tweets/lookup/api-reference/get-tweets\n",
        "tweet_relations.columns"
      ],
      "execution_count": 38,
      "outputs": [
        {
          "output_type": "execute_result",
          "data": {
            "text/plain": [
              "Index(['referenced_tweets', 'entities.urls', 'in_reply_to_user_id'], dtype='object')"
            ]
          },
          "metadata": {},
          "execution_count": 38
        }
      ]
    },
    {
      "cell_type": "markdown",
      "metadata": {
        "id": "9F_oUawKitBV"
      },
      "source": [
        "# 5. Organize User Relations"
      ]
    },
    {
      "cell_type": "code",
      "metadata": {
        "id": "e5MnzqZDH9wX"
      },
      "source": [
        "relation_url_url = user_relations[['id', 'entities.url.urls']].dropna().explode('entities.url.urls')\n",
        "relation_url_url = pd.concat([relation_url_url, relation_url_url['entities.url.urls'].apply(pd.Series)], axis = 1)\n",
        "relation_url_url = relation_url_url.drop(columns = 'entities.url.urls').reset_index(drop = True)"
      ],
      "execution_count": 39,
      "outputs": []
    },
    {
      "cell_type": "code",
      "metadata": {
        "id": "NcTq4xVpJaLo"
      },
      "source": [
        "relation_url_description = user_relations[['id', 'entities.description.urls']].dropna().explode('entities.description.urls')\n",
        "relation_url_description = pd.concat([relation_url_description, relation_url_description['entities.description.urls'].apply(pd.Series)], axis = 1)\n",
        "relation_url_description = relation_url_description.drop(columns = 'entities.description.urls').reset_index(drop = True)"
      ],
      "execution_count": 40,
      "outputs": []
    },
    {
      "cell_type": "code",
      "metadata": {
        "id": "vlvMT0sRgNxn"
      },
      "source": [
        "relation_url = pd.concat([relation_url_url, relation_url_description]).reset_index(drop = True)"
      ],
      "execution_count": 41,
      "outputs": []
    },
    {
      "cell_type": "code",
      "metadata": {
        "id": "Y_MboMLHJf4Z"
      },
      "source": [
        "relation_mention = user_relations[['id', 'entities.description.mentions']].dropna().explode('entities.description.mentions')\n",
        "relation_mention = pd.concat([relation_mention, relation_mention['entities.description.mentions'].apply(pd.Series)], axis = 1)\n",
        "relation_mention = relation_mention.drop(columns = 'entities.description.mentions').reset_index(drop = True)"
      ],
      "execution_count": 42,
      "outputs": []
    },
    {
      "cell_type": "code",
      "metadata": {
        "id": "mxCFrvGDJvA6"
      },
      "source": [
        "relation_hashtag = user_relations[['id', 'entities.description.hashtags']].dropna().explode('entities.description.hashtags')\n",
        "relation_hashtag = pd.concat([relation_hashtag, relation_hashtag['entities.description.hashtags'].apply(pd.Series)], axis = 1)\n",
        "relation_hashtag = relation_hashtag.drop(columns = 'entities.description.hashtags').reset_index(drop = True)"
      ],
      "execution_count": 43,
      "outputs": []
    },
    {
      "cell_type": "code",
      "metadata": {
        "id": "u6Ig8ETRiOwJ",
        "colab": {
          "base_uri": "https://localhost:8080/",
          "height": 419
        },
        "outputId": "6f495b38-ad5e-4f7c-834e-38b0b4298ce9"
      },
      "source": [
        "# TODO: link username to target user id in relation_mention"
      ],
      "execution_count": null,
      "outputs": [
        {
          "output_type": "execute_result",
          "data": {
            "text/html": [
              "<div>\n",
              "<style scoped>\n",
              "    .dataframe tbody tr th:only-of-type {\n",
              "        vertical-align: middle;\n",
              "    }\n",
              "\n",
              "    .dataframe tbody tr th {\n",
              "        vertical-align: top;\n",
              "    }\n",
              "\n",
              "    .dataframe thead th {\n",
              "        text-align: right;\n",
              "    }\n",
              "</style>\n",
              "<table border=\"1\" class=\"dataframe\">\n",
              "  <thead>\n",
              "    <tr style=\"text-align: right;\">\n",
              "      <th></th>\n",
              "      <th>id</th>\n",
              "      <th>start</th>\n",
              "      <th>end</th>\n",
              "      <th>username</th>\n",
              "    </tr>\n",
              "  </thead>\n",
              "  <tbody>\n",
              "    <tr>\n",
              "      <th>0</th>\n",
              "      <td>790232729770086400</td>\n",
              "      <td>84</td>\n",
              "      <td>95</td>\n",
              "      <td>hereshippo</td>\n",
              "    </tr>\n",
              "    <tr>\n",
              "      <th>1</th>\n",
              "      <td>2684046276</td>\n",
              "      <td>6</td>\n",
              "      <td>22</td>\n",
              "      <td>yunsuljj_notice</td>\n",
              "    </tr>\n",
              "    <tr>\n",
              "      <th>2</th>\n",
              "      <td>218527625</td>\n",
              "      <td>122</td>\n",
              "      <td>130</td>\n",
              "      <td>iianfit</td>\n",
              "    </tr>\n",
              "    <tr>\n",
              "      <th>3</th>\n",
              "      <td>880759635816333313</td>\n",
              "      <td>10</td>\n",
              "      <td>20</td>\n",
              "      <td>Chou_crem</td>\n",
              "    </tr>\n",
              "    <tr>\n",
              "      <th>4</th>\n",
              "      <td>970942487396102144</td>\n",
              "      <td>4</td>\n",
              "      <td>20</td>\n",
              "      <td>dailyshirley120</td>\n",
              "    </tr>\n",
              "    <tr>\n",
              "      <th>...</th>\n",
              "      <td>...</td>\n",
              "      <td>...</td>\n",
              "      <td>...</td>\n",
              "      <td>...</td>\n",
              "    </tr>\n",
              "    <tr>\n",
              "      <th>83</th>\n",
              "      <td>292395944</td>\n",
              "      <td>22</td>\n",
              "      <td>32</td>\n",
              "      <td>barry_lee</td>\n",
              "    </tr>\n",
              "    <tr>\n",
              "      <th>84</th>\n",
              "      <td>1240916626020552705</td>\n",
              "      <td>7</td>\n",
              "      <td>17</td>\n",
              "      <td>oat_duck3</td>\n",
              "    </tr>\n",
              "    <tr>\n",
              "      <th>85</th>\n",
              "      <td>1600295274</td>\n",
              "      <td>118</td>\n",
              "      <td>134</td>\n",
              "      <td>artholic_sketch</td>\n",
              "    </tr>\n",
              "    <tr>\n",
              "      <th>86</th>\n",
              "      <td>970942487396102144</td>\n",
              "      <td>4</td>\n",
              "      <td>20</td>\n",
              "      <td>dailyshirley120</td>\n",
              "    </tr>\n",
              "    <tr>\n",
              "      <th>87</th>\n",
              "      <td>909060756670259200</td>\n",
              "      <td>15</td>\n",
              "      <td>24</td>\n",
              "      <td>eunbyeok</td>\n",
              "    </tr>\n",
              "  </tbody>\n",
              "</table>\n",
              "<p>88 rows × 4 columns</p>\n",
              "</div>"
            ],
            "text/plain": [
              "                     id  start  end         username\n",
              "0    790232729770086400     84   95       hereshippo\n",
              "1            2684046276      6   22  yunsuljj_notice\n",
              "2             218527625    122  130          iianfit\n",
              "3    880759635816333313     10   20        Chou_crem\n",
              "4    970942487396102144      4   20  dailyshirley120\n",
              "..                  ...    ...  ...              ...\n",
              "83            292395944     22   32        barry_lee\n",
              "84  1240916626020552705      7   17        oat_duck3\n",
              "85           1600295274    118  134  artholic_sketch\n",
              "86   970942487396102144      4   20  dailyshirley120\n",
              "87   909060756670259200     15   24         eunbyeok\n",
              "\n",
              "[88 rows x 4 columns]"
            ]
          },
          "metadata": {},
          "execution_count": 181
        }
      ]
    },
    {
      "cell_type": "code",
      "metadata": {
        "id": "wXHFd7VhFzzF",
        "outputId": "226bc01c-a456-4714-9730-7c9e37b3870b",
        "colab": {
          "base_uri": "https://localhost:8080/"
        }
      },
      "source": [
        ""
      ],
      "execution_count": 53,
      "outputs": [
        {
          "output_type": "execute_result",
          "data": {
            "text/plain": [
              "12533"
            ]
          },
          "metadata": {},
          "execution_count": 53
        }
      ]
    }
  ]
}