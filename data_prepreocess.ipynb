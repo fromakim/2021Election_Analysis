{
  "nbformat": 4,
  "nbformat_minor": 0,
  "metadata": {
    "colab": {
      "name": "prepreocess.ipynb",
      "provenance": [],
      "authorship_tag": "ABX9TyO0V7wsVDy1LPCt4o83l8Od",
      "include_colab_link": true
    },
    "kernelspec": {
      "name": "python3",
      "display_name": "Python 3"
    },
    "language_info": {
      "name": "python"
    }
  },
  "cells": [
    {
      "cell_type": "markdown",
      "metadata": {
        "id": "view-in-github",
        "colab_type": "text"
      },
      "source": [
        "<a href=\"https://colab.research.google.com/github/fromakim/2021Election_Analysis/blob/main/data_prepreocess.ipynb\" target=\"_parent\"><img src=\"https://colab.research.google.com/assets/colab-badge.svg\" alt=\"Open In Colab\"/></a>"
      ]
    },
    {
      "cell_type": "markdown",
      "metadata": {
        "id": "c56CvaQZiSg5"
      },
      "source": [
        "# 1. Dev Environment"
      ]
    },
    {
      "cell_type": "code",
      "metadata": {
        "id": "xoQH4WA8ELJv",
        "colab": {
          "base_uri": "https://localhost:8080/"
        },
        "outputId": "3e27697b-9ce0-43c5-9d68-31174d5817cc"
      },
      "source": [
        "!pip install flatten_json"
      ],
      "execution_count": 1,
      "outputs": [
        {
          "output_type": "stream",
          "name": "stdout",
          "text": [
            "Requirement already satisfied: flatten_json in /usr/local/lib/python3.7/dist-packages (0.1.13)\n",
            "Requirement already satisfied: six in /usr/local/lib/python3.7/dist-packages (from flatten_json) (1.15.0)\n"
          ]
        }
      ]
    },
    {
      "cell_type": "code",
      "metadata": {
        "id": "5xn2Fz2vwTEV"
      },
      "source": [
        "from google.colab import drive\n",
        "\n",
        "import itertools\n",
        "import json\n",
        "import requests\n",
        "from urllib import parse\n",
        "from datetime import datetime, timedelta"
      ],
      "execution_count": 2,
      "outputs": []
    },
    {
      "cell_type": "code",
      "metadata": {
        "id": "O8nmhnySt8Yp"
      },
      "source": [
        "import numpy as np\n",
        "import pandas as pd"
      ],
      "execution_count": 3,
      "outputs": []
    },
    {
      "cell_type": "code",
      "metadata": {
        "id": "Y0VQ8yp6BkTY"
      },
      "source": [
        "from flatten_json import flatten"
      ],
      "execution_count": 4,
      "outputs": []
    },
    {
      "cell_type": "code",
      "metadata": {
        "colab": {
          "base_uri": "https://localhost:8080/"
        },
        "id": "25A-8w_BBKRM",
        "outputId": "cfdf08b1-9b9d-449e-b442-07a88341bee7"
      },
      "source": [
        "drive.mount('/content/gdrive')"
      ],
      "execution_count": 5,
      "outputs": [
        {
          "output_type": "stream",
          "name": "stdout",
          "text": [
            "Drive already mounted at /content/gdrive; to attempt to forcibly remount, call drive.mount(\"/content/gdrive\", force_remount=True).\n"
          ]
        }
      ]
    },
    {
      "cell_type": "markdown",
      "metadata": {
        "id": "jiEttn-sieEk"
      },
      "source": [
        "# 2. Import Data"
      ]
    },
    {
      "cell_type": "code",
      "metadata": {
        "id": "dYh11E4Ay-L5"
      },
      "source": [
        "# Import Data\n",
        "data = []"
      ],
      "execution_count": 6,
      "outputs": []
    },
    {
      "cell_type": "code",
      "metadata": {
        "id": "JEiLiEwSwUCd"
      },
      "source": [
        "for i in range(100):\n",
        "    try:\n",
        "        f = open(f'./gdrive/MyDrive/Colab Notebooks/election_sample/data{i:02}.json', encoding = 'utf-8')\n",
        "        data.append(json.load(f))\n",
        "    except Exception as e:\n",
        "        pass"
      ],
      "execution_count": 7,
      "outputs": []
    },
    {
      "cell_type": "markdown",
      "metadata": {
        "id": "CqqcQs33igVT"
      },
      "source": [
        "# 3. Organize User, Media, Tweet"
      ]
    },
    {
      "cell_type": "code",
      "metadata": {
        "id": "ii1mYo7BBTZl"
      },
      "source": [
        "users = pd.concat([pd.DataFrame([flatten(i, root_keys_to_ignore = {'public_metrics', 'entities'}) for i in item['includes']['users']]) for item in data]).reset_index(drop = True)"
      ],
      "execution_count": 8,
      "outputs": []
    },
    {
      "cell_type": "code",
      "metadata": {
        "id": "p80NfOKGDb9o"
      },
      "source": [
        "medias = pd.concat([pd.DataFrame([flatten(i) for i in item['includes']['media']]) if 'media' in item['includes'] else pd.DataFrame() for item in data]).reset_index(drop = True)"
      ],
      "execution_count": 9,
      "outputs": []
    },
    {
      "cell_type": "code",
      "metadata": {
        "id": "C2E7hNYjD0lP"
      },
      "source": [
        "tweets = pd.concat([pd.DataFrame([flatten(i, root_keys_to_ignore = {'referenced_tweets', 'public_metrics', 'in_reply_to_user_id', 'attachments', 'entities', 'context_annotations', 'attachments'}) for i in item['includes']['tweets']]) for item in data]).reset_index(drop = True)"
      ],
      "execution_count": 10,
      "outputs": []
    },
    {
      "cell_type": "markdown",
      "metadata": {
        "id": "dgwKATaDimPz"
      },
      "source": [
        "# 4. Organize overall Relation"
      ]
    },
    {
      "cell_type": "code",
      "metadata": {
        "id": "VW6O1lCeKumL"
      },
      "source": [
        "user_relations = pd.concat([pd.json_normalize(d['includes']['users']) for d in data]).reset_index(drop = True)[['id', 'entities.url.urls', 'entities.description.urls', 'entities.description.mentions', 'entities.description.hashtags']]"
      ],
      "execution_count": 11,
      "outputs": []
    },
    {
      "cell_type": "code",
      "metadata": {
        "id": "55QP7yvkR_L5"
      },
      "source": [
        "tweet_relations = pd.concat([pd.json_normalize(d['includes']['tweets']) for d in data])[['referenced_tweets', 'entities.urls', 'in_reply_to_user_id']].reset_index(drop = True)"
      ],
      "execution_count": 12,
      "outputs": []
    },
    {
      "cell_type": "code",
      "metadata": {
        "id": "YRxRE9pwULr3",
        "colab": {
          "base_uri": "https://localhost:8080/"
        },
        "outputId": "2add94ae-3453-4de1-fc24-c4563e398ac8"
      },
      "source": [
        "# https://developer.twitter.com/en/docs/twitter-api/users/lookup/api-reference/get-users\n",
        "user_relations.columns"
      ],
      "execution_count": 13,
      "outputs": [
        {
          "output_type": "execute_result",
          "data": {
            "text/plain": [
              "Index(['id', 'entities.url.urls', 'entities.description.urls',\n",
              "       'entities.description.mentions', 'entities.description.hashtags'],\n",
              "      dtype='object')"
            ]
          },
          "metadata": {},
          "execution_count": 13
        }
      ]
    },
    {
      "cell_type": "code",
      "metadata": {
        "id": "IHlmZ9Yrc9is",
        "colab": {
          "base_uri": "https://localhost:8080/"
        },
        "outputId": "d2ca4c93-247e-4182-e933-a7b6b383056e"
      },
      "source": [
        "# https://developer.twitter.com/en/docs/twitter-api/tweets/lookup/api-reference/get-tweets\n",
        "tweet_relations.columns"
      ],
      "execution_count": 14,
      "outputs": [
        {
          "output_type": "execute_result",
          "data": {
            "text/plain": [
              "Index(['referenced_tweets', 'entities.urls', 'in_reply_to_user_id'], dtype='object')"
            ]
          },
          "metadata": {},
          "execution_count": 14
        }
      ]
    },
    {
      "cell_type": "markdown",
      "metadata": {
        "id": "9F_oUawKitBV"
      },
      "source": [
        "# 5. Organize User Relations"
      ]
    },
    {
      "cell_type": "code",
      "metadata": {
        "id": "e5MnzqZDH9wX"
      },
      "source": [
        "relation_url_url = user_relations[['id', 'entities.url.urls']].dropna().explode('entities.url.urls')\n",
        "relation_url_url = pd.concat([relation_url_url, relation_url_url['entities.url.urls'].apply(pd.Series)], axis = 1)\n",
        "relation_url_url = relation_url_url.drop(columns = 'entities.url.urls').reset_index(drop = True)"
      ],
      "execution_count": 15,
      "outputs": []
    },
    {
      "cell_type": "code",
      "metadata": {
        "id": "NcTq4xVpJaLo"
      },
      "source": [
        "relation_url_description = user_relations[['id', 'entities.description.urls']].dropna().explode('entities.description.urls')\n",
        "relation_url_description = pd.concat([relation_url_description, relation_url_description['entities.description.urls'].apply(pd.Series)], axis = 1)\n",
        "relation_url_description = relation_url_description.drop(columns = 'entities.description.urls').reset_index(drop = True)"
      ],
      "execution_count": 16,
      "outputs": []
    },
    {
      "cell_type": "code",
      "metadata": {
        "id": "vlvMT0sRgNxn"
      },
      "source": [
        "relation_url = pd.concat([relation_url_url, relation_url_description]).reset_index(drop = True)"
      ],
      "execution_count": 17,
      "outputs": []
    },
    {
      "cell_type": "code",
      "metadata": {
        "id": "Y_MboMLHJf4Z"
      },
      "source": [
        "relation_mention = user_relations[['id', 'entities.description.mentions']].dropna().explode('entities.description.mentions')\n",
        "relation_mention = pd.concat([relation_mention, relation_mention['entities.description.mentions'].apply(pd.Series)], axis = 1)\n",
        "relation_mention = relation_mention.drop(columns = 'entities.description.mentions').reset_index(drop = True)"
      ],
      "execution_count": 18,
      "outputs": []
    },
    {
      "cell_type": "code",
      "metadata": {
        "id": "mxCFrvGDJvA6"
      },
      "source": [
        "relation_hashtag = user_relations[['id', 'entities.description.hashtags']].dropna().explode('entities.description.hashtags')\n",
        "relation_hashtag = pd.concat([relation_hashtag, relation_hashtag['entities.description.hashtags'].apply(pd.Series)], axis = 1)\n",
        "relation_hashtag = relation_hashtag.drop(columns = 'entities.description.hashtags').reset_index(drop = True)"
      ],
      "execution_count": 19,
      "outputs": []
    },
    {
      "cell_type": "markdown",
      "metadata": {
        "id": "bDSVCpFxB8vc"
      },
      "source": [
        "# 6. Save Data Files"
      ]
    },
    {
      "cell_type": "code",
      "metadata": {
        "id": "u6Ig8ETRiOwJ"
      },
      "source": [
        "users.to_csv('./gdrive/MyDrive/Colab Notebooks/election_sample/user.json')\n",
        "medias.to_csv('./gdrive/MyDrive/Colab Notebooks/election_sample/media.json')\n",
        "tweets.to_csv('./gdrive/MyDrive/Colab Notebooks/election_sample/tweet.json')"
      ],
      "execution_count": 20,
      "outputs": []
    },
    {
      "cell_type": "code",
      "metadata": {
        "id": "WlXX22USCTuP"
      },
      "source": [
        "relation_mention.to_csv('./gdrive/MyDrive/Colab Notebooks/election_sample/mention.json')"
      ],
      "execution_count": 21,
      "outputs": []
    },
    {
      "cell_type": "code",
      "metadata": {
        "id": "JhbsdDWTCViS"
      },
      "source": [
        "relation_hashtag.to_csv('./gdrive/MyDrive/Colab Notebooks/election_sample/hashtag.json')"
      ],
      "execution_count": 22,
      "outputs": []
    },
    {
      "cell_type": "code",
      "metadata": {
        "id": "Z9D_MJzSCX_4"
      },
      "source": [
        ""
      ],
      "execution_count": 22,
      "outputs": []
    }
  ]
}