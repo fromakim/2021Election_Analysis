{
  "nbformat": 4,
  "nbformat_minor": 0,
  "metadata": {
    "colab": {
      "name": "data-getfollowers.ipynb",
      "provenance": [],
      "authorship_tag": "ABX9TyO5X1tlIKDmlJN7YOB6mF8Q",
      "include_colab_link": true
    },
    "kernelspec": {
      "name": "python3",
      "display_name": "Python 3"
    },
    "language_info": {
      "name": "python"
    }
  },
  "cells": [
    {
      "cell_type": "markdown",
      "metadata": {
        "id": "view-in-github",
        "colab_type": "text"
      },
      "source": [
        "<a href=\"https://colab.research.google.com/github/fromakim/2021Election_Analysis/blob/main/data_getfollowers.ipynb\" target=\"_parent\"><img src=\"https://colab.research.google.com/assets/colab-badge.svg\" alt=\"Open In Colab\"/></a>"
      ]
    },
    {
      "cell_type": "markdown",
      "metadata": {
        "id": "XhLVHfnrJZ3q"
      },
      "source": [
        "# 1. Dev Environment"
      ]
    },
    {
      "cell_type": "code",
      "metadata": {
        "id": "5xn2Fz2vwTEV"
      },
      "source": [
        "import itertools\n",
        "import json\n",
        "import requests\n",
        "from time import sleep\n",
        "from urllib import parse\n",
        "from datetime import datetime, timedelta"
      ],
      "execution_count": 71,
      "outputs": []
    },
    {
      "cell_type": "code",
      "metadata": {
        "id": "O8nmhnySt8Yp"
      },
      "source": [
        "import numpy as np\n",
        "import pandas as pd"
      ],
      "execution_count": 2,
      "outputs": []
    },
    {
      "cell_type": "code",
      "source": [
        "from google.colab import drive"
      ],
      "metadata": {
        "id": "3bcthM2quT_1"
      },
      "execution_count": 4,
      "outputs": []
    },
    {
      "cell_type": "code",
      "metadata": {
        "id": "25A-8w_BBKRM",
        "colab": {
          "base_uri": "https://localhost:8080/"
        },
        "outputId": "119bbf21-aad6-49f7-8b7f-5e42546b814c"
      },
      "source": [
        "drive.mount('/content/gdrive')\n",
        "# LAMBDA: import boto3"
      ],
      "execution_count": 5,
      "outputs": [
        {
          "output_type": "stream",
          "name": "stdout",
          "text": [
            "Mounted at /content/gdrive\n"
          ]
        }
      ]
    },
    {
      "cell_type": "code",
      "metadata": {
        "id": "1GLf64y1TvEt"
      },
      "source": [
        "# LABMDA: s3 = boto3.client('s3')"
      ],
      "execution_count": null,
      "outputs": []
    },
    {
      "cell_type": "markdown",
      "metadata": {
        "id": "ZUJ8rGXkPsDq"
      },
      "source": [
        "# 2. Key File Setting"
      ]
    },
    {
      "cell_type": "code",
      "metadata": {
        "id": "9ek8V05GEzjz"
      },
      "source": [
        "f = open('./gdrive/MyDrive/Colab Notebooks/key.json')\n",
        "# LAMBDA: f = open('./key.json')\n",
        "keys = json.load(f)"
      ],
      "execution_count": 6,
      "outputs": []
    },
    {
      "cell_type": "code",
      "metadata": {
        "id": "LuZtrGEeE_-E"
      },
      "source": [
        "api_key = keys['api_key']\n",
        "api_secret_key = keys['api_secret_key']\n",
        "bearer_token = keys['bearer_token']\n",
        "app_id = keys['app_id']\n",
        "index = int(keys['index'])"
      ],
      "execution_count": 7,
      "outputs": []
    },
    {
      "cell_type": "code",
      "metadata": {
        "id": "I4yCo7qMFAzj"
      },
      "source": [
        "headers = {\"Authorization\" : f\"Bearer {bearer_token}\"}"
      ],
      "execution_count": 8,
      "outputs": []
    },
    {
      "cell_type": "markdown",
      "metadata": {
        "id": "sXhpkLrZKCjb"
      },
      "source": [
        "# 3. Import Data"
      ]
    },
    {
      "cell_type": "code",
      "metadata": {
        "id": "Dsondo6zKFTC"
      },
      "source": [
        "users = pd.read_csv('/content/gdrive/MyDrive/Colab Notebooks/election_sample/user.csv')\n",
        "# LAMBDA: users = pd.read_csv('./user.csv')"
      ],
      "execution_count": 9,
      "outputs": []
    },
    {
      "cell_type": "markdown",
      "metadata": {
        "id": "emBLsKEBEXIc"
      },
      "source": [
        "# 4. Collect Follow Network"
      ]
    },
    {
      "cell_type": "code",
      "metadata": {
        "id": "zKMt9nhjGwMk"
      },
      "source": [
        "follows = pd.json_normalize(requests.get(f'https://api.twitter.com/2/users/{users[\"id\"][index]}/following?max_results=1000', headers = headers).json()['data'])"
      ],
      "execution_count": null,
      "outputs": []
    },
    {
      "cell_type": "code",
      "metadata": {
        "id": "Vz3bEde3NeGx"
      },
      "source": [
        "follows.columns = ['to', 'name', 'username']"
      ],
      "execution_count": null,
      "outputs": []
    },
    {
      "cell_type": "code",
      "metadata": {
        "id": "tQ4_Mjo9R0Vn"
      },
      "source": [
        "follows['from'] = users['id'][index]"
      ],
      "execution_count": null,
      "outputs": []
    },
    {
      "cell_type": "code",
      "metadata": {
        "colab": {
          "base_uri": "https://localhost:8080/",
          "height": 109
        },
        "id": "q7Xp00qeR9u1",
        "outputId": "a43e2549-445e-460c-9e00-d48262a3a8f1"
      },
      "source": [
        "body = follows.to_json(orient = 'records')"
      ],
      "execution_count": null,
      "outputs": [
        {
          "output_type": "execute_result",
          "data": {
            "application/vnd.google.colaboratory.intrinsic+json": {
              "type": "string"
            },
            "text/plain": [
              "'[{\"to\":\"982126734\",\"name\":\"\\\\u1d55\\\\u2240 \\\\u0320\\\\u1d55\",\"username\":\"wouldujustnot\",\"from\":1236893975488778241},{\"to\":\"977544986148274177\",\"name\":\"MJ\",\"username\":\"KIM_etal\",\"from\":1236893975488778241},{\"to\":\"150633655\",\"name\":\"Martin McKee\",\"username\":\"martinmckee\",\"from\":1236893975488778241},{\"to\":\"1181519339050156032\",\"name\":\"June\",\"username\":\"demipointe_139\",\"from\":1236893975488778241},{\"to\":\"188244198\",\"name\":\"jee\",\"username\":\"limjees\",\"from\":1236893975488778241},{\"to\":\"1209816676016873473\",\"name\":\"\\\\uba74\",\"username\":\"choimyeon\",\"from\":1236893975488778241},{\"to\":\"275551267\",\"name\":\"\\\\uae40\\\\uc5f0\\\\uacbd kim yeon koung\",\"username\":\"kimyk10\",\"from\":1236893975488778241},{\"to\":\"132762348\",\"name\":\"JOY\",\"username\":\"BF_cordwainer\",\"from\":1236893975488778241},{\"to\":\"151764715\",\"name\":\"\\\\uc0dd\\\\uac15\",\"username\":\"inkivaariyksi\",\"from\":1236893975488778241},{\"to\":\"43509988\",\"name\":\"tablo\",\"username\":\"blobyblo\",\"from\":1236893975488778241},{\"to\":\"2972799367\",\"name\":\"\\\\uc815\\\\ubc00\\\\uc544Jeongmilla\",\"username\":\"Jeong_milla\",\"from\":1236893975488778241},{\"to\":\"1289395515621179393\",\"name\":\"\\\\ub808\\\\uc774\\\\uc5b4\\\\ub4dc\",\"username\":\"LayeredInvest\",\"from\":1236893975488778241},{\"to\":\"1270959013648191490\",\"name\":\"\\\\uad8c\\\\uc778\\\\uc219\",\"username\":\"Insook_Kwon\",\"from\":1236893975488778241},{\"to\":\"937886702722465793\",\"name\":\"\\\\uae40\\\\ube0c\\\\ub9ac\",\"username\":\"kimbrie_\",\"from\":1236893975488778241},{\"to\":\"1087885045770027008\",\"name\":\"\\\\ub4e3\\\\ub611\\\\ub77c\",\"username\":\"listen_smart_\",\"from\":1236893975488778241},{\"to\":\"158409927\",\"name\":\"\\\\uc870\\\\uc9d5\",\"username\":\"zozingzing\",\"from\":1236893975488778241},{\"to\":\"2843173604\",\"name\":\"\\\\ud751\\\\uc601\",\"username\":\"jesuisombrenoir\",\"from\":1236893975488778241},{\"to\":\"53305769\",\"name\":\"Hyunho Shin\",\"username\":\"shinhh\",\"from\":1236893975488778241},{\"to\":\"168838944\",\"name\":\"\\\\ud30c\\\\uc211\\\\uc211\",\"username\":\"suresuresowhat\",\"from\":1236893975488778241},{\"to\":\"918826358691700736\",\"name\":\"\\\\uad81\\\\uae08\",\"username\":\"mina_table\",\"from\":1236893975488778241},{\"to\":\"86482203\",\"name\":\"\\\\uae40\\\\uc9c4\\\\uc560\",\"username\":\"jk_space\",\"from\":1236893975488778241},{\"to\":\"128304069\",\"name\":\"\\\\uc624\\\\uc9c0\\\\uc740\\\\ud83c\\\\udf3f\",\"username\":\"heaventomorrow\",\"from\":1236893975488778241},{\"to\":\"116168125\",\"name\":\"\\\\uc774\\\\uc774\\\\uc5b8\",\"username\":\"eaeon\",\"from\":1236893975488778241},{\"to\":\"261727021\",\"name\":\"\\\\uae40 \\\\uc580\",\"username\":\"babamba2020\",\"from\":1236893975488778241},{\"to\":\"3131144855\",\"name\":\"Boris Johnson\",\"username\":\"BorisJohnson\",\"from\":1236893975488778241},{\"to\":\"313099820\",\"name\":\"\\\\ub9e4\\\\uc5f0\\\\uacc4\\\\uace12\",\"username\":\"smokevalley2\",\"from\":1236893975488778241},{\"to\":\"161801527\",\"name\":\"Melinda French Gates\",\"username\":\"melindagates\",\"from\":1236893975488778241},{\"to\":\"17899109\",\"name\":\"Gates Foundation\",\"username\":\"gatesfoundation\",\"from\":1236893975488778241},{\"to\":\"50393960\",\"name\":\"Bill Gates\",\"username\":\"BillGates\",\"from\":1236893975488778241},{\"to\":\"813286\",\"name\":\"Barack Obama\",\"username\":\"BarackObama\",\"from\":1236893975488778241},{\"to\":\"1241778306204102656\",\"name\":\"\\\\ucd94\\\\uc801\\\\ub2e8\\\\ubd88\\\\uaf43\",\"username\":\"56flame\",\"from\":1236893975488778241},{\"to\":\"171901847\",\"name\":\"\\\\uc704\\\\uadfc\\\\uc6b0\",\"username\":\"guevara_99\",\"from\":1236893975488778241},{\"to\":\"117658308\",\"name\":\"\\\\uc815\\\\ud61c\\\\uc2e0\",\"username\":\"mindjj\",\"from\":1236893975488778241},{\"to\":\"166739404\",\"name\":\"Emma Watson\",\"username\":\"EmmaWatson\",\"from\":1236893975488778241},{\"to\":\"444465942\",\"name\":\"\\\\ubb38\\\\uc7ac\\\\uc778\",\"username\":\"moonriver365\",\"from\":1236893975488778241},{\"to\":\"144284168\",\"name\":\"JAY BUM PARK\",\"username\":\"JAYBUMAOM\",\"from\":1236893975488778241}]'"
            ]
          },
          "metadata": {},
          "execution_count": 52
        }
      ]
    },
    {
      "cell_type": "code",
      "metadata": {
        "id": "7NO-3uUHUGBm"
      },
      "source": [
        "# LAMBDA: s3.put_object(Body = body, Bucket = 'electiondatafile', Key = f'follows/{users[\"id\"][index]}.json')"
      ],
      "execution_count": null,
      "outputs": []
    },
    {
      "cell_type": "markdown",
      "metadata": {
        "id": "ma6de2cMUC02"
      },
      "source": [
        "# 5. Modify Key Settings"
      ]
    },
    {
      "cell_type": "code",
      "metadata": {
        "id": "BLPFhweqR-ak"
      },
      "source": [
        "keys['index'] = str(int(keys['index']) + 1)"
      ],
      "execution_count": null,
      "outputs": []
    },
    {
      "cell_type": "code",
      "metadata": {
        "id": "NaNSsnFeUTyd"
      },
      "source": [
        "# LAMBDA: s3.put_object(Body = json.dumps(keys), Bucket = 'electiondatafile', Key = 'key.json')"
      ],
      "execution_count": null,
      "outputs": []
    },
    {
      "cell_type": "markdown",
      "source": [
        "Loop"
      ],
      "metadata": {
        "id": "cgr7quC9uybC"
      }
    },
    {
      "cell_type": "code",
      "source": [
        "users.columns = ['name', 'verified', 'created_at', 'description', 'profile_image_url', 'username', 'id', 'url', 'protected', 'location', 'pinned_tweet_id']"
      ],
      "metadata": {
        "id": "8rz9bHz5vhvb"
      },
      "execution_count": 59,
      "outputs": []
    },
    {
      "cell_type": "code",
      "source": [
        "follows = pd.DataFrame(columns = ['to_id', 'to_name', 'to_username', 'from_id', 'from_name', 'from_username'])"
      ],
      "metadata": {
        "id": "QEovYZEV37D4"
      },
      "execution_count": 68,
      "outputs": []
    },
    {
      "cell_type": "code",
      "metadata": {
        "id": "Ik2LI24_XHDp",
        "outputId": "3bf479af-3cd7-4d6f-e9bd-c685e2a4403c",
        "colab": {
          "base_uri": "https://localhost:8080/",
          "height": 1000
        }
      },
      "source": [
        "for index, user in users[234:].iterrows():      # 바로 실행하면 됨.\n",
        "    try:\n",
        "        print(f'user analysis on index [{index}]')\n",
        "\n",
        "        res = requests.get(f'https://api.twitter.com/2/users/{user.id}/following?max_results=1000', headers = headers).json()\n",
        "\n",
        "        data = res['data']\n",
        "        count = res['meta']['result_count']\n",
        "        \n",
        "        df = pd.json_normalize(data)\n",
        "        df = df[['id', 'name', 'username']]\n",
        "        df.columns = ['to_id', 'to_name', 'to_username']\n",
        "        \n",
        "        df['from_id'] = user['id']\n",
        "        df['from_name'] = user['name']\n",
        "        df['from_username'] = user['username']\n",
        "\n",
        "        follows = pd.concat([follows, df])\n",
        "\n",
        "    except:\n",
        "        print(f'execution stopped at the index : [{index}]')\n",
        "        print(res)\n",
        "\n",
        "        # if res['errors'][0]['title'] == 'Authorization Error':\n",
        "        #     sleep(90)\n",
        "        #     continue\n",
        "        continue\n",
        "\n",
        "    finally:\n",
        "        sleep(90)"
      ],
      "execution_count": 127,
      "outputs": [
        {
          "output_type": "stream",
          "name": "stdout",
          "text": [
            "user analysis on index [171]\n",
            "user analysis on index [172]\n",
            "user analysis on index [173]\n",
            "user analysis on index [174]\n",
            "user analysis on index [175]\n",
            "user analysis on index [176]\n",
            "execution stopped at the index : [176]\n",
            "{'errors': [{'value': '1438745955327569927', 'detail': 'Could not find user with id: [1438745955327569927].', 'title': 'Not Found Error', 'resource_type': 'user', 'parameter': 'id', 'resource_id': '1438745955327569927', 'type': 'https://api.twitter.com/2/problems/resource-not-found'}]}\n",
            "user analysis on index [177]\n",
            "user analysis on index [178]\n",
            "user analysis on index [179]\n",
            "user analysis on index [180]\n",
            "user analysis on index [181]\n",
            "user analysis on index [182]\n",
            "user analysis on index [183]\n",
            "user analysis on index [184]\n",
            "user analysis on index [185]\n",
            "user analysis on index [186]\n",
            "user analysis on index [187]\n",
            "user analysis on index [188]\n",
            "user analysis on index [189]\n",
            "user analysis on index [190]\n",
            "execution stopped at the index : [190]\n",
            "{'errors': [{'value': '976145981661003777', 'detail': 'Could not find user with id: [976145981661003777].', 'title': 'Not Found Error', 'resource_type': 'user', 'parameter': 'id', 'resource_id': '976145981661003777', 'type': 'https://api.twitter.com/2/problems/resource-not-found'}]}\n",
            "user analysis on index [191]\n",
            "user analysis on index [192]\n",
            "user analysis on index [193]\n",
            "user analysis on index [194]\n",
            "user analysis on index [195]\n",
            "user analysis on index [196]\n",
            "user analysis on index [197]\n",
            "execution stopped at the index : [197]\n",
            "{'errors': [{'resource_id': '974646566429515776', 'parameter': 'id', 'resource_type': 'user', 'section': 'data', 'title': 'Authorization Error', 'value': '974646566429515776', 'detail': 'Sorry, you are not authorized to see the user with id: [974646566429515776].', 'type': 'https://api.twitter.com/2/problems/not-authorized-for-resource'}]}\n",
            "user analysis on index [198]\n",
            "user analysis on index [199]\n",
            "user analysis on index [200]\n",
            "user analysis on index [201]\n",
            "user analysis on index [202]\n",
            "user analysis on index [203]\n",
            "user analysis on index [204]\n",
            "user analysis on index [205]\n",
            "user analysis on index [206]\n",
            "user analysis on index [207]\n",
            "execution stopped at the index : [207]\n",
            "{'errors': [{'resource_id': '1431262995535958024', 'parameter': 'id', 'resource_type': 'user', 'section': 'data', 'title': 'Authorization Error', 'value': '1431262995535958024', 'detail': 'Sorry, you are not authorized to see the user with id: [1431262995535958024].', 'type': 'https://api.twitter.com/2/problems/not-authorized-for-resource'}]}\n",
            "user analysis on index [208]\n",
            "user analysis on index [209]\n",
            "user analysis on index [210]\n",
            "user analysis on index [211]\n",
            "user analysis on index [212]\n",
            "user analysis on index [213]\n",
            "user analysis on index [214]\n",
            "execution stopped at the index : [214]\n",
            "{'errors': [{'resource_id': '1447810922328641536', 'parameter': 'id', 'resource_type': 'user', 'section': 'data', 'title': 'Authorization Error', 'value': '1447810922328641536', 'detail': 'Sorry, you are not authorized to see the user with id: [1447810922328641536].', 'type': 'https://api.twitter.com/2/problems/not-authorized-for-resource'}]}\n",
            "user analysis on index [215]\n",
            "user analysis on index [216]\n",
            "user analysis on index [217]\n",
            "user analysis on index [218]\n",
            "user analysis on index [219]\n",
            "user analysis on index [220]\n",
            "user analysis on index [221]\n",
            "user analysis on index [222]\n",
            "user analysis on index [223]\n",
            "user analysis on index [224]\n",
            "user analysis on index [225]\n",
            "user analysis on index [226]\n",
            "user analysis on index [227]\n",
            "user analysis on index [228]\n",
            "user analysis on index [229]\n",
            "user analysis on index [230]\n",
            "user analysis on index [231]\n",
            "user analysis on index [232]\n",
            "user analysis on index [233]\n"
          ]
        },
        {
          "output_type": "error",
          "ename": "KeyboardInterrupt",
          "evalue": "ignored",
          "traceback": [
            "\u001b[0;31m---------------------------------------------------------------------------\u001b[0m",
            "\u001b[0;31mKeyboardInterrupt\u001b[0m                         Traceback (most recent call last)",
            "\u001b[0;32m<ipython-input-127-7440d4083f3a>\u001b[0m in \u001b[0;36m<module>\u001b[0;34m()\u001b[0m\n\u001b[1;32m     28\u001b[0m \u001b[0;34m\u001b[0m\u001b[0m\n\u001b[1;32m     29\u001b[0m     \u001b[0;32mfinally\u001b[0m\u001b[0;34m:\u001b[0m\u001b[0;34m\u001b[0m\u001b[0;34m\u001b[0m\u001b[0m\n\u001b[0;32m---> 30\u001b[0;31m         \u001b[0msleep\u001b[0m\u001b[0;34m(\u001b[0m\u001b[0;36m90\u001b[0m\u001b[0;34m)\u001b[0m\u001b[0;34m\u001b[0m\u001b[0;34m\u001b[0m\u001b[0m\n\u001b[0m",
            "\u001b[0;31mKeyboardInterrupt\u001b[0m: "
          ]
        }
      ]
    },
    {
      "cell_type": "code",
      "source": [
        "follows"
      ],
      "metadata": {
        "id": "7AjXW-QVu8NB",
        "outputId": "6fa8e5ae-da70-434e-acd9-c936ff22a392",
        "colab": {
          "base_uri": "https://localhost:8080/",
          "height": 419
        }
      },
      "execution_count": 128,
      "outputs": [
        {
          "output_type": "execute_result",
          "data": {
            "text/html": [
              "\n",
              "  <div id=\"df-9e61215a-cde8-48eb-bd2b-27137417f99a\">\n",
              "    <div class=\"colab-df-container\">\n",
              "      <div>\n",
              "<style scoped>\n",
              "    .dataframe tbody tr th:only-of-type {\n",
              "        vertical-align: middle;\n",
              "    }\n",
              "\n",
              "    .dataframe tbody tr th {\n",
              "        vertical-align: top;\n",
              "    }\n",
              "\n",
              "    .dataframe thead th {\n",
              "        text-align: right;\n",
              "    }\n",
              "</style>\n",
              "<table border=\"1\" class=\"dataframe\">\n",
              "  <thead>\n",
              "    <tr style=\"text-align: right;\">\n",
              "      <th></th>\n",
              "      <th>to_id</th>\n",
              "      <th>to_name</th>\n",
              "      <th>to_username</th>\n",
              "      <th>from_id</th>\n",
              "      <th>from_name</th>\n",
              "      <th>from_username</th>\n",
              "    </tr>\n",
              "  </thead>\n",
              "  <tbody>\n",
              "    <tr>\n",
              "      <th>0</th>\n",
              "      <td>982126734</td>\n",
              "      <td>ᵕ≀ ̠ᵕ</td>\n",
              "      <td>wouldujustnot</td>\n",
              "      <td>1236893975488778241</td>\n",
              "      <td>크즈</td>\n",
              "      <td>unkogej</td>\n",
              "    </tr>\n",
              "    <tr>\n",
              "      <th>1</th>\n",
              "      <td>977544986148274177</td>\n",
              "      <td>MJ</td>\n",
              "      <td>KIM_etal</td>\n",
              "      <td>1236893975488778241</td>\n",
              "      <td>크즈</td>\n",
              "      <td>unkogej</td>\n",
              "    </tr>\n",
              "    <tr>\n",
              "      <th>2</th>\n",
              "      <td>150633655</td>\n",
              "      <td>Martin McKee</td>\n",
              "      <td>martinmckee</td>\n",
              "      <td>1236893975488778241</td>\n",
              "      <td>크즈</td>\n",
              "      <td>unkogej</td>\n",
              "    </tr>\n",
              "    <tr>\n",
              "      <th>3</th>\n",
              "      <td>1181519339050156032</td>\n",
              "      <td>June</td>\n",
              "      <td>demipointe_139</td>\n",
              "      <td>1236893975488778241</td>\n",
              "      <td>크즈</td>\n",
              "      <td>unkogej</td>\n",
              "    </tr>\n",
              "    <tr>\n",
              "      <th>4</th>\n",
              "      <td>188244198</td>\n",
              "      <td>jee</td>\n",
              "      <td>limjees</td>\n",
              "      <td>1236893975488778241</td>\n",
              "      <td>크즈</td>\n",
              "      <td>unkogej</td>\n",
              "    </tr>\n",
              "    <tr>\n",
              "      <th>...</th>\n",
              "      <td>...</td>\n",
              "      <td>...</td>\n",
              "      <td>...</td>\n",
              "      <td>...</td>\n",
              "      <td>...</td>\n",
              "      <td>...</td>\n",
              "    </tr>\n",
              "    <tr>\n",
              "      <th>343</th>\n",
              "      <td>166739404</td>\n",
              "      <td>Emma Watson</td>\n",
              "      <td>EmmaWatson</td>\n",
              "      <td>794551904726433792</td>\n",
              "      <td>니니</td>\n",
              "      <td>puffinpeng</td>\n",
              "    </tr>\n",
              "    <tr>\n",
              "      <th>344</th>\n",
              "      <td>98567132</td>\n",
              "      <td>페미니스트 저널 일다</td>\n",
              "      <td>ildaro</td>\n",
              "      <td>794551904726433792</td>\n",
              "      <td>니니</td>\n",
              "      <td>puffinpeng</td>\n",
              "    </tr>\n",
              "    <tr>\n",
              "      <th>345</th>\n",
              "      <td>703107382625198080</td>\n",
              "      <td>기독교 덕후</td>\n",
              "      <td>christ_taku</td>\n",
              "      <td>794551904726433792</td>\n",
              "      <td>니니</td>\n",
              "      <td>puffinpeng</td>\n",
              "    </tr>\n",
              "    <tr>\n",
              "      <th>346</th>\n",
              "      <td>151807455</td>\n",
              "      <td>djuna</td>\n",
              "      <td>djuna01</td>\n",
              "      <td>794551904726433792</td>\n",
              "      <td>니니</td>\n",
              "      <td>puffinpeng</td>\n",
              "    </tr>\n",
              "    <tr>\n",
              "      <th>347</th>\n",
              "      <td>2893741537</td>\n",
              "      <td>황현산</td>\n",
              "      <td>septuor1</td>\n",
              "      <td>794551904726433792</td>\n",
              "      <td>니니</td>\n",
              "      <td>puffinpeng</td>\n",
              "    </tr>\n",
              "  </tbody>\n",
              "</table>\n",
              "<p>95691 rows × 6 columns</p>\n",
              "</div>\n",
              "      <button class=\"colab-df-convert\" onclick=\"convertToInteractive('df-9e61215a-cde8-48eb-bd2b-27137417f99a')\"\n",
              "              title=\"Convert this dataframe to an interactive table.\"\n",
              "              style=\"display:none;\">\n",
              "        \n",
              "  <svg xmlns=\"http://www.w3.org/2000/svg\" height=\"24px\"viewBox=\"0 0 24 24\"\n",
              "       width=\"24px\">\n",
              "    <path d=\"M0 0h24v24H0V0z\" fill=\"none\"/>\n",
              "    <path d=\"M18.56 5.44l.94 2.06.94-2.06 2.06-.94-2.06-.94-.94-2.06-.94 2.06-2.06.94zm-11 1L8.5 8.5l.94-2.06 2.06-.94-2.06-.94L8.5 2.5l-.94 2.06-2.06.94zm10 10l.94 2.06.94-2.06 2.06-.94-2.06-.94-.94-2.06-.94 2.06-2.06.94z\"/><path d=\"M17.41 7.96l-1.37-1.37c-.4-.4-.92-.59-1.43-.59-.52 0-1.04.2-1.43.59L10.3 9.45l-7.72 7.72c-.78.78-.78 2.05 0 2.83L4 21.41c.39.39.9.59 1.41.59.51 0 1.02-.2 1.41-.59l7.78-7.78 2.81-2.81c.8-.78.8-2.07 0-2.86zM5.41 20L4 18.59l7.72-7.72 1.47 1.35L5.41 20z\"/>\n",
              "  </svg>\n",
              "      </button>\n",
              "      \n",
              "  <style>\n",
              "    .colab-df-container {\n",
              "      display:flex;\n",
              "      flex-wrap:wrap;\n",
              "      gap: 12px;\n",
              "    }\n",
              "\n",
              "    .colab-df-convert {\n",
              "      background-color: #E8F0FE;\n",
              "      border: none;\n",
              "      border-radius: 50%;\n",
              "      cursor: pointer;\n",
              "      display: none;\n",
              "      fill: #1967D2;\n",
              "      height: 32px;\n",
              "      padding: 0 0 0 0;\n",
              "      width: 32px;\n",
              "    }\n",
              "\n",
              "    .colab-df-convert:hover {\n",
              "      background-color: #E2EBFA;\n",
              "      box-shadow: 0px 1px 2px rgba(60, 64, 67, 0.3), 0px 1px 3px 1px rgba(60, 64, 67, 0.15);\n",
              "      fill: #174EA6;\n",
              "    }\n",
              "\n",
              "    [theme=dark] .colab-df-convert {\n",
              "      background-color: #3B4455;\n",
              "      fill: #D2E3FC;\n",
              "    }\n",
              "\n",
              "    [theme=dark] .colab-df-convert:hover {\n",
              "      background-color: #434B5C;\n",
              "      box-shadow: 0px 1px 3px 1px rgba(0, 0, 0, 0.15);\n",
              "      filter: drop-shadow(0px 1px 2px rgba(0, 0, 0, 0.3));\n",
              "      fill: #FFFFFF;\n",
              "    }\n",
              "  </style>\n",
              "\n",
              "      <script>\n",
              "        const buttonEl =\n",
              "          document.querySelector('#df-9e61215a-cde8-48eb-bd2b-27137417f99a button.colab-df-convert');\n",
              "        buttonEl.style.display =\n",
              "          google.colab.kernel.accessAllowed ? 'block' : 'none';\n",
              "\n",
              "        async function convertToInteractive(key) {\n",
              "          const element = document.querySelector('#df-9e61215a-cde8-48eb-bd2b-27137417f99a');\n",
              "          const dataTable =\n",
              "            await google.colab.kernel.invokeFunction('convertToInteractive',\n",
              "                                                     [key], {});\n",
              "          if (!dataTable) return;\n",
              "\n",
              "          const docLinkHtml = 'Like what you see? Visit the ' +\n",
              "            '<a target=\"_blank\" href=https://colab.research.google.com/notebooks/data_table.ipynb>data table notebook</a>'\n",
              "            + ' to learn more about interactive tables.';\n",
              "          element.innerHTML = '';\n",
              "          dataTable['output_type'] = 'display_data';\n",
              "          await google.colab.output.renderOutput(dataTable, element);\n",
              "          const docLink = document.createElement('div');\n",
              "          docLink.innerHTML = docLinkHtml;\n",
              "          element.appendChild(docLink);\n",
              "        }\n",
              "      </script>\n",
              "    </div>\n",
              "  </div>\n",
              "  "
            ],
            "text/plain": [
              "                   to_id       to_name  ... from_name from_username\n",
              "0              982126734         ᵕ≀ ̠ᵕ  ...        크즈       unkogej\n",
              "1     977544986148274177            MJ  ...        크즈       unkogej\n",
              "2              150633655  Martin McKee  ...        크즈       unkogej\n",
              "3    1181519339050156032          June  ...        크즈       unkogej\n",
              "4              188244198           jee  ...        크즈       unkogej\n",
              "..                   ...           ...  ...       ...           ...\n",
              "343            166739404   Emma Watson  ...        니니    puffinpeng\n",
              "344             98567132   페미니스트 저널 일다  ...        니니    puffinpeng\n",
              "345   703107382625198080        기독교 덕후  ...        니니    puffinpeng\n",
              "346            151807455         djuna  ...        니니    puffinpeng\n",
              "347           2893741537           황현산  ...        니니    puffinpeng\n",
              "\n",
              "[95691 rows x 6 columns]"
            ]
          },
          "metadata": {},
          "execution_count": 128
        }
      ]
    },
    {
      "cell_type": "code",
      "source": [
        "users[230:235]"
      ],
      "metadata": {
        "id": "zgA6j1YB622u",
        "outputId": "2f1a0919-1cae-4125-9ffb-7f94913f30ed",
        "colab": {
          "base_uri": "https://localhost:8080/",
          "height": 525
        }
      },
      "execution_count": 129,
      "outputs": [
        {
          "output_type": "execute_result",
          "data": {
            "text/html": [
              "\n",
              "  <div id=\"df-a73cb928-e56a-485d-958b-c81995230f4b\">\n",
              "    <div class=\"colab-df-container\">\n",
              "      <div>\n",
              "<style scoped>\n",
              "    .dataframe tbody tr th:only-of-type {\n",
              "        vertical-align: middle;\n",
              "    }\n",
              "\n",
              "    .dataframe tbody tr th {\n",
              "        vertical-align: top;\n",
              "    }\n",
              "\n",
              "    .dataframe thead th {\n",
              "        text-align: right;\n",
              "    }\n",
              "</style>\n",
              "<table border=\"1\" class=\"dataframe\">\n",
              "  <thead>\n",
              "    <tr style=\"text-align: right;\">\n",
              "      <th></th>\n",
              "      <th>name</th>\n",
              "      <th>verified</th>\n",
              "      <th>created_at</th>\n",
              "      <th>description</th>\n",
              "      <th>profile_image_url</th>\n",
              "      <th>username</th>\n",
              "      <th>id</th>\n",
              "      <th>url</th>\n",
              "      <th>protected</th>\n",
              "      <th>location</th>\n",
              "      <th>pinned_tweet_id</th>\n",
              "    </tr>\n",
              "  </thead>\n",
              "  <tbody>\n",
              "    <tr>\n",
              "      <th>230</th>\n",
              "      <td>카르텔v2.0</td>\n",
              "      <td>False</td>\n",
              "      <td>2017-04-18T12:26:09.000Z</td>\n",
              "      <td>구독계 플텍계 기타 내멋대로 블언블. 구독계라 의심되도 블언블 또는 차단\\n\\n사회...</td>\n",
              "      <td>https://pbs.twimg.com/profile_images/145652695...</td>\n",
              "      <td>_jbdjljm__</td>\n",
              "      <td>854310076546404352</td>\n",
              "      <td>NaN</td>\n",
              "      <td>False</td>\n",
              "      <td>NaN</td>\n",
              "      <td>1.454243e+18</td>\n",
              "    </tr>\n",
              "    <tr>\n",
              "      <th>231</th>\n",
              "      <td>#사사오입 #부정선거</td>\n",
              "      <td>False</td>\n",
              "      <td>2012-03-15T04:20:28.000Z</td>\n",
              "      <td>#효력정지_가처분신청_기각_판사의불법절차\\n#일본제_보이콧\\n#낙지털보사절\\n#토착...</td>\n",
              "      <td>https://pbs.twimg.com/profile_images/144964187...</td>\n",
              "      <td>mujungyu</td>\n",
              "      <td>525022124</td>\n",
              "      <td>NaN</td>\n",
              "      <td>False</td>\n",
              "      <td>서울</td>\n",
              "      <td>NaN</td>\n",
              "    </tr>\n",
              "    <tr>\n",
              "      <th>232</th>\n",
              "      <td>👹TV조선홍회장vs전과4범</td>\n",
              "      <td>False</td>\n",
              "      <td>2010-05-30T12:27:42.000Z</td>\n",
              "      <td>공수처판사1호❤서울남부법원판사\\n#판사남편_법적처벌안받는_불사신\\n★662일째(20...</td>\n",
              "      <td>https://pbs.twimg.com/profile_images/125412334...</td>\n",
              "      <td>inin12340</td>\n",
              "      <td>149861557</td>\n",
              "      <td>NaN</td>\n",
              "      <td>False</td>\n",
              "      <td>NaN</td>\n",
              "      <td>1.437577e+18</td>\n",
              "    </tr>\n",
              "    <tr>\n",
              "      <th>233</th>\n",
              "      <td>니니</td>\n",
              "      <td>False</td>\n",
              "      <td>2016-11-04T14:48:30.000Z</td>\n",
              "      <td>볼수록 황홀한 넌 누구야 ❤️‍🔥</td>\n",
              "      <td>https://pbs.twimg.com/profile_images/102797005...</td>\n",
              "      <td>puffinpeng</td>\n",
              "      <td>794551904726433792</td>\n",
              "      <td>NaN</td>\n",
              "      <td>False</td>\n",
              "      <td>New York, NY</td>\n",
              "      <td>1.438281e+18</td>\n",
              "    </tr>\n",
              "    <tr>\n",
              "      <th>234</th>\n",
              "      <td>심상정</td>\n",
              "      <td>True</td>\n",
              "      <td>2009-03-31T05:29:28.000Z</td>\n",
              "      <td>#심블리 가 여러분의 자부심이 되겠습니다. 정의당 국회의원 심상정입니다.\\n\\n문의...</td>\n",
              "      <td>https://pbs.twimg.com/profile_images/133506349...</td>\n",
              "      <td>sangjungsim</td>\n",
              "      <td>27821557</td>\n",
              "      <td>https://t.co/739nWIVSlo</td>\n",
              "      <td>False</td>\n",
              "      <td>Korea</td>\n",
              "      <td>NaN</td>\n",
              "    </tr>\n",
              "  </tbody>\n",
              "</table>\n",
              "</div>\n",
              "      <button class=\"colab-df-convert\" onclick=\"convertToInteractive('df-a73cb928-e56a-485d-958b-c81995230f4b')\"\n",
              "              title=\"Convert this dataframe to an interactive table.\"\n",
              "              style=\"display:none;\">\n",
              "        \n",
              "  <svg xmlns=\"http://www.w3.org/2000/svg\" height=\"24px\"viewBox=\"0 0 24 24\"\n",
              "       width=\"24px\">\n",
              "    <path d=\"M0 0h24v24H0V0z\" fill=\"none\"/>\n",
              "    <path d=\"M18.56 5.44l.94 2.06.94-2.06 2.06-.94-2.06-.94-.94-2.06-.94 2.06-2.06.94zm-11 1L8.5 8.5l.94-2.06 2.06-.94-2.06-.94L8.5 2.5l-.94 2.06-2.06.94zm10 10l.94 2.06.94-2.06 2.06-.94-2.06-.94-.94-2.06-.94 2.06-2.06.94z\"/><path d=\"M17.41 7.96l-1.37-1.37c-.4-.4-.92-.59-1.43-.59-.52 0-1.04.2-1.43.59L10.3 9.45l-7.72 7.72c-.78.78-.78 2.05 0 2.83L4 21.41c.39.39.9.59 1.41.59.51 0 1.02-.2 1.41-.59l7.78-7.78 2.81-2.81c.8-.78.8-2.07 0-2.86zM5.41 20L4 18.59l7.72-7.72 1.47 1.35L5.41 20z\"/>\n",
              "  </svg>\n",
              "      </button>\n",
              "      \n",
              "  <style>\n",
              "    .colab-df-container {\n",
              "      display:flex;\n",
              "      flex-wrap:wrap;\n",
              "      gap: 12px;\n",
              "    }\n",
              "\n",
              "    .colab-df-convert {\n",
              "      background-color: #E8F0FE;\n",
              "      border: none;\n",
              "      border-radius: 50%;\n",
              "      cursor: pointer;\n",
              "      display: none;\n",
              "      fill: #1967D2;\n",
              "      height: 32px;\n",
              "      padding: 0 0 0 0;\n",
              "      width: 32px;\n",
              "    }\n",
              "\n",
              "    .colab-df-convert:hover {\n",
              "      background-color: #E2EBFA;\n",
              "      box-shadow: 0px 1px 2px rgba(60, 64, 67, 0.3), 0px 1px 3px 1px rgba(60, 64, 67, 0.15);\n",
              "      fill: #174EA6;\n",
              "    }\n",
              "\n",
              "    [theme=dark] .colab-df-convert {\n",
              "      background-color: #3B4455;\n",
              "      fill: #D2E3FC;\n",
              "    }\n",
              "\n",
              "    [theme=dark] .colab-df-convert:hover {\n",
              "      background-color: #434B5C;\n",
              "      box-shadow: 0px 1px 3px 1px rgba(0, 0, 0, 0.15);\n",
              "      filter: drop-shadow(0px 1px 2px rgba(0, 0, 0, 0.3));\n",
              "      fill: #FFFFFF;\n",
              "    }\n",
              "  </style>\n",
              "\n",
              "      <script>\n",
              "        const buttonEl =\n",
              "          document.querySelector('#df-a73cb928-e56a-485d-958b-c81995230f4b button.colab-df-convert');\n",
              "        buttonEl.style.display =\n",
              "          google.colab.kernel.accessAllowed ? 'block' : 'none';\n",
              "\n",
              "        async function convertToInteractive(key) {\n",
              "          const element = document.querySelector('#df-a73cb928-e56a-485d-958b-c81995230f4b');\n",
              "          const dataTable =\n",
              "            await google.colab.kernel.invokeFunction('convertToInteractive',\n",
              "                                                     [key], {});\n",
              "          if (!dataTable) return;\n",
              "\n",
              "          const docLinkHtml = 'Like what you see? Visit the ' +\n",
              "            '<a target=\"_blank\" href=https://colab.research.google.com/notebooks/data_table.ipynb>data table notebook</a>'\n",
              "            + ' to learn more about interactive tables.';\n",
              "          element.innerHTML = '';\n",
              "          dataTable['output_type'] = 'display_data';\n",
              "          await google.colab.output.renderOutput(dataTable, element);\n",
              "          const docLink = document.createElement('div');\n",
              "          docLink.innerHTML = docLinkHtml;\n",
              "          element.appendChild(docLink);\n",
              "        }\n",
              "      </script>\n",
              "    </div>\n",
              "  </div>\n",
              "  "
            ],
            "text/plain": [
              "               name  verified  ...      location pinned_tweet_id\n",
              "230         카르텔v2.0     False  ...           NaN    1.454243e+18\n",
              "231     #사사오입 #부정선거     False  ...            서울             NaN\n",
              "232  👹TV조선홍회장vs전과4범     False  ...           NaN    1.437577e+18\n",
              "233              니니     False  ...  New York, NY    1.438281e+18\n",
              "234             심상정      True  ...         Korea             NaN\n",
              "\n",
              "[5 rows x 11 columns]"
            ]
          },
          "metadata": {},
          "execution_count": 129
        }
      ]
    },
    {
      "cell_type": "code",
      "source": [
        "follows.reset_index(drop = True).to_csv('followmap.csv')"
      ],
      "metadata": {
        "id": "9qmNFWDdPaFs"
      },
      "execution_count": 117,
      "outputs": []
    },
    {
      "cell_type": "code",
      "source": [
        "follows"
      ],
      "metadata": {
        "id": "UPbxLisMjX1F",
        "outputId": "a47906e5-c0a3-4984-cd8d-3f90d8556ff9",
        "colab": {
          "base_uri": "https://localhost:8080/",
          "height": 419
        }
      },
      "execution_count": 116,
      "outputs": [
        {
          "output_type": "execute_result",
          "data": {
            "text/html": [
              "\n",
              "  <div id=\"df-55c31c09-a568-4ea1-823d-4322013dbfda\">\n",
              "    <div class=\"colab-df-container\">\n",
              "      <div>\n",
              "<style scoped>\n",
              "    .dataframe tbody tr th:only-of-type {\n",
              "        vertical-align: middle;\n",
              "    }\n",
              "\n",
              "    .dataframe tbody tr th {\n",
              "        vertical-align: top;\n",
              "    }\n",
              "\n",
              "    .dataframe thead th {\n",
              "        text-align: right;\n",
              "    }\n",
              "</style>\n",
              "<table border=\"1\" class=\"dataframe\">\n",
              "  <thead>\n",
              "    <tr style=\"text-align: right;\">\n",
              "      <th></th>\n",
              "      <th>to_id</th>\n",
              "      <th>to_name</th>\n",
              "      <th>to_username</th>\n",
              "      <th>from_id</th>\n",
              "      <th>from_name</th>\n",
              "      <th>from_username</th>\n",
              "    </tr>\n",
              "  </thead>\n",
              "  <tbody>\n",
              "    <tr>\n",
              "      <th>0</th>\n",
              "      <td>982126734</td>\n",
              "      <td>ᵕ≀ ̠ᵕ</td>\n",
              "      <td>wouldujustnot</td>\n",
              "      <td>1236893975488778241</td>\n",
              "      <td>크즈</td>\n",
              "      <td>unkogej</td>\n",
              "    </tr>\n",
              "    <tr>\n",
              "      <th>1</th>\n",
              "      <td>977544986148274177</td>\n",
              "      <td>MJ</td>\n",
              "      <td>KIM_etal</td>\n",
              "      <td>1236893975488778241</td>\n",
              "      <td>크즈</td>\n",
              "      <td>unkogej</td>\n",
              "    </tr>\n",
              "    <tr>\n",
              "      <th>2</th>\n",
              "      <td>150633655</td>\n",
              "      <td>Martin McKee</td>\n",
              "      <td>martinmckee</td>\n",
              "      <td>1236893975488778241</td>\n",
              "      <td>크즈</td>\n",
              "      <td>unkogej</td>\n",
              "    </tr>\n",
              "    <tr>\n",
              "      <th>3</th>\n",
              "      <td>1181519339050156032</td>\n",
              "      <td>June</td>\n",
              "      <td>demipointe_139</td>\n",
              "      <td>1236893975488778241</td>\n",
              "      <td>크즈</td>\n",
              "      <td>unkogej</td>\n",
              "    </tr>\n",
              "    <tr>\n",
              "      <th>4</th>\n",
              "      <td>188244198</td>\n",
              "      <td>jee</td>\n",
              "      <td>limjees</td>\n",
              "      <td>1236893975488778241</td>\n",
              "      <td>크즈</td>\n",
              "      <td>unkogej</td>\n",
              "    </tr>\n",
              "    <tr>\n",
              "      <th>...</th>\n",
              "      <td>...</td>\n",
              "      <td>...</td>\n",
              "      <td>...</td>\n",
              "      <td>...</td>\n",
              "      <td>...</td>\n",
              "      <td>...</td>\n",
              "    </tr>\n",
              "    <tr>\n",
              "      <th>104</th>\n",
              "      <td>1445600122427957253</td>\n",
              "      <td>혜견</td>\n",
              "      <td>G_211006</td>\n",
              "      <td>1445587101790007302</td>\n",
              "      <td>냠</td>\n",
              "      <td>ddinni_</td>\n",
              "    </tr>\n",
              "    <tr>\n",
              "      <th>105</th>\n",
              "      <td>1233190331761381377</td>\n",
              "      <td>🤍말랑공주❤</td>\n",
              "      <td>MeEl10_</td>\n",
              "      <td>1445587101790007302</td>\n",
              "      <td>냠</td>\n",
              "      <td>ddinni_</td>\n",
              "    </tr>\n",
              "    <tr>\n",
              "      <th>106</th>\n",
              "      <td>1232912988459290624</td>\n",
              "      <td>클튜출석해💢무해</td>\n",
              "      <td>MUHE_FF14</td>\n",
              "      <td>1445587101790007302</td>\n",
              "      <td>냠</td>\n",
              "      <td>ddinni_</td>\n",
              "    </tr>\n",
              "    <tr>\n",
              "      <th>107</th>\n",
              "      <td>724774289765896192</td>\n",
              "      <td>루토스</td>\n",
              "      <td>Rutos_0814</td>\n",
              "      <td>1445587101790007302</td>\n",
              "      <td>냠</td>\n",
              "      <td>ddinni_</td>\n",
              "    </tr>\n",
              "    <tr>\n",
              "      <th>108</th>\n",
              "      <td>2835113330</td>\n",
              "      <td>레나를 사랑하는 MERO</td>\n",
              "      <td>shopdol1000</td>\n",
              "      <td>1445587101790007302</td>\n",
              "      <td>냠</td>\n",
              "      <td>ddinni_</td>\n",
              "    </tr>\n",
              "  </tbody>\n",
              "</table>\n",
              "<p>38069 rows × 6 columns</p>\n",
              "</div>\n",
              "      <button class=\"colab-df-convert\" onclick=\"convertToInteractive('df-55c31c09-a568-4ea1-823d-4322013dbfda')\"\n",
              "              title=\"Convert this dataframe to an interactive table.\"\n",
              "              style=\"display:none;\">\n",
              "        \n",
              "  <svg xmlns=\"http://www.w3.org/2000/svg\" height=\"24px\"viewBox=\"0 0 24 24\"\n",
              "       width=\"24px\">\n",
              "    <path d=\"M0 0h24v24H0V0z\" fill=\"none\"/>\n",
              "    <path d=\"M18.56 5.44l.94 2.06.94-2.06 2.06-.94-2.06-.94-.94-2.06-.94 2.06-2.06.94zm-11 1L8.5 8.5l.94-2.06 2.06-.94-2.06-.94L8.5 2.5l-.94 2.06-2.06.94zm10 10l.94 2.06.94-2.06 2.06-.94-2.06-.94-.94-2.06-.94 2.06-2.06.94z\"/><path d=\"M17.41 7.96l-1.37-1.37c-.4-.4-.92-.59-1.43-.59-.52 0-1.04.2-1.43.59L10.3 9.45l-7.72 7.72c-.78.78-.78 2.05 0 2.83L4 21.41c.39.39.9.59 1.41.59.51 0 1.02-.2 1.41-.59l7.78-7.78 2.81-2.81c.8-.78.8-2.07 0-2.86zM5.41 20L4 18.59l7.72-7.72 1.47 1.35L5.41 20z\"/>\n",
              "  </svg>\n",
              "      </button>\n",
              "      \n",
              "  <style>\n",
              "    .colab-df-container {\n",
              "      display:flex;\n",
              "      flex-wrap:wrap;\n",
              "      gap: 12px;\n",
              "    }\n",
              "\n",
              "    .colab-df-convert {\n",
              "      background-color: #E8F0FE;\n",
              "      border: none;\n",
              "      border-radius: 50%;\n",
              "      cursor: pointer;\n",
              "      display: none;\n",
              "      fill: #1967D2;\n",
              "      height: 32px;\n",
              "      padding: 0 0 0 0;\n",
              "      width: 32px;\n",
              "    }\n",
              "\n",
              "    .colab-df-convert:hover {\n",
              "      background-color: #E2EBFA;\n",
              "      box-shadow: 0px 1px 2px rgba(60, 64, 67, 0.3), 0px 1px 3px 1px rgba(60, 64, 67, 0.15);\n",
              "      fill: #174EA6;\n",
              "    }\n",
              "\n",
              "    [theme=dark] .colab-df-convert {\n",
              "      background-color: #3B4455;\n",
              "      fill: #D2E3FC;\n",
              "    }\n",
              "\n",
              "    [theme=dark] .colab-df-convert:hover {\n",
              "      background-color: #434B5C;\n",
              "      box-shadow: 0px 1px 3px 1px rgba(0, 0, 0, 0.15);\n",
              "      filter: drop-shadow(0px 1px 2px rgba(0, 0, 0, 0.3));\n",
              "      fill: #FFFFFF;\n",
              "    }\n",
              "  </style>\n",
              "\n",
              "      <script>\n",
              "        const buttonEl =\n",
              "          document.querySelector('#df-55c31c09-a568-4ea1-823d-4322013dbfda button.colab-df-convert');\n",
              "        buttonEl.style.display =\n",
              "          google.colab.kernel.accessAllowed ? 'block' : 'none';\n",
              "\n",
              "        async function convertToInteractive(key) {\n",
              "          const element = document.querySelector('#df-55c31c09-a568-4ea1-823d-4322013dbfda');\n",
              "          const dataTable =\n",
              "            await google.colab.kernel.invokeFunction('convertToInteractive',\n",
              "                                                     [key], {});\n",
              "          if (!dataTable) return;\n",
              "\n",
              "          const docLinkHtml = 'Like what you see? Visit the ' +\n",
              "            '<a target=\"_blank\" href=https://colab.research.google.com/notebooks/data_table.ipynb>data table notebook</a>'\n",
              "            + ' to learn more about interactive tables.';\n",
              "          element.innerHTML = '';\n",
              "          dataTable['output_type'] = 'display_data';\n",
              "          await google.colab.output.renderOutput(dataTable, element);\n",
              "          const docLink = document.createElement('div');\n",
              "          docLink.innerHTML = docLinkHtml;\n",
              "          element.appendChild(docLink);\n",
              "        }\n",
              "      </script>\n",
              "    </div>\n",
              "  </div>\n",
              "  "
            ],
            "text/plain": [
              "                   to_id        to_name  ... from_name from_username\n",
              "0              982126734          ᵕ≀ ̠ᵕ  ...        크즈       unkogej\n",
              "1     977544986148274177             MJ  ...        크즈       unkogej\n",
              "2              150633655   Martin McKee  ...        크즈       unkogej\n",
              "3    1181519339050156032           June  ...        크즈       unkogej\n",
              "4              188244198            jee  ...        크즈       unkogej\n",
              "..                   ...            ...  ...       ...           ...\n",
              "104  1445600122427957253             혜견  ...         냠       ddinni_\n",
              "105  1233190331761381377         🤍말랑공주❤  ...         냠       ddinni_\n",
              "106  1232912988459290624       클튜출석해💢무해  ...         냠       ddinni_\n",
              "107   724774289765896192            루토스  ...         냠       ddinni_\n",
              "108           2835113330  레나를 사랑하는 MERO  ...         냠       ddinni_\n",
              "\n",
              "[38069 rows x 6 columns]"
            ]
          },
          "metadata": {},
          "execution_count": 116
        }
      ]
    },
    {
      "cell_type": "code",
      "source": [
        ""
      ],
      "metadata": {
        "id": "jTMgcjUxjb8q"
      },
      "execution_count": null,
      "outputs": []
    }
  ]
}