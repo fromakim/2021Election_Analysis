{
  "nbformat": 4,
  "nbformat_minor": 0,
  "metadata": {
    "colab": {
      "name": "data-getfollowers.ipynb",
      "provenance": [],
      "authorship_tag": "ABX9TyPiDCV9atiJpgSc/GGdiUIK",
      "include_colab_link": true
    },
    "kernelspec": {
      "name": "python3",
      "display_name": "Python 3"
    },
    "language_info": {
      "name": "python"
    }
  },
  "cells": [
    {
      "cell_type": "markdown",
      "metadata": {
        "id": "view-in-github",
        "colab_type": "text"
      },
      "source": [
        "<a href=\"https://colab.research.google.com/github/fromakim/2021Election_Analysis/blob/main/data_getfollowers.ipynb\" target=\"_parent\"><img src=\"https://colab.research.google.com/assets/colab-badge.svg\" alt=\"Open In Colab\"/></a>"
      ]
    },
    {
      "cell_type": "markdown",
      "metadata": {
        "id": "XhLVHfnrJZ3q"
      },
      "source": [
        "# 1. Dev Environment"
      ]
    },
    {
      "cell_type": "code",
      "metadata": {
        "id": "5xn2Fz2vwTEV"
      },
      "source": [
        "import itertools\n",
        "import json\n",
        "import requests\n",
        "from urllib import parse\n",
        "from datetime import datetime, timedelta"
      ],
      "execution_count": 28,
      "outputs": []
    },
    {
      "cell_type": "code",
      "metadata": {
        "id": "O8nmhnySt8Yp"
      },
      "source": [
        "import numpy as np\n",
        "import pandas as pd"
      ],
      "execution_count": 29,
      "outputs": []
    },
    {
      "cell_type": "code",
      "metadata": {
        "id": "25A-8w_BBKRM",
        "colab": {
          "base_uri": "https://localhost:8080/"
        },
        "outputId": "9fbff202-1b4b-4c28-a84a-578be0f5d2d4"
      },
      "source": [
        "drive.mount('/content/gdrive')\n",
        "# LAMBDA: import boto3"
      ],
      "execution_count": 30,
      "outputs": [
        {
          "output_type": "stream",
          "name": "stdout",
          "text": [
            "Drive already mounted at /content/gdrive; to attempt to forcibly remount, call drive.mount(\"/content/gdrive\", force_remount=True).\n"
          ]
        }
      ]
    },
    {
      "cell_type": "code",
      "metadata": {
        "id": "1GLf64y1TvEt"
      },
      "source": [
        "# LABMDA: s3 = boto3.client('s3')"
      ],
      "execution_count": null,
      "outputs": []
    },
    {
      "cell_type": "markdown",
      "metadata": {
        "id": "ZUJ8rGXkPsDq"
      },
      "source": [
        "# 2. Key File Setting"
      ]
    },
    {
      "cell_type": "code",
      "metadata": {
        "id": "9ek8V05GEzjz"
      },
      "source": [
        "f = open('./gdrive/MyDrive/Colab Notebooks/key.json')\n",
        "# LAMBDA: f = open('./key.json')\n",
        "keys = json.load(f)"
      ],
      "execution_count": 31,
      "outputs": []
    },
    {
      "cell_type": "code",
      "metadata": {
        "id": "LuZtrGEeE_-E"
      },
      "source": [
        "api_key = keys['api_key']\n",
        "api_secret_key = keys['api_secret_key']\n",
        "bearer_token = keys['bearer_token']\n",
        "app_id = keys['app_id']\n",
        "index = int(keys['index'])"
      ],
      "execution_count": 35,
      "outputs": []
    },
    {
      "cell_type": "code",
      "metadata": {
        "id": "I4yCo7qMFAzj"
      },
      "source": [
        "headers = {\"Authorization\" : f\"Bearer {bearer_token}\"}"
      ],
      "execution_count": 33,
      "outputs": []
    },
    {
      "cell_type": "markdown",
      "metadata": {
        "id": "sXhpkLrZKCjb"
      },
      "source": [
        "# 3. Import Data"
      ]
    },
    {
      "cell_type": "code",
      "metadata": {
        "id": "Dsondo6zKFTC"
      },
      "source": [
        "users = pd.read_csv('/content/gdrive/MyDrive/Colab Notebooks/election_sample/user.csv')\n",
        "# LAMBDA: users = pd.read_csv('./user.csv')"
      ],
      "execution_count": 34,
      "outputs": []
    },
    {
      "cell_type": "markdown",
      "metadata": {
        "id": "emBLsKEBEXIc"
      },
      "source": [
        "# 4. Collect Follow Network"
      ]
    },
    {
      "cell_type": "code",
      "metadata": {
        "id": "zKMt9nhjGwMk"
      },
      "source": [
        "follows = pd.json_normalize(requests.get(f'https://api.twitter.com/2/users/{users[\"id\"][index]}/following?max_results=1000', headers = headers).json()['data'])"
      ],
      "execution_count": 49,
      "outputs": []
    },
    {
      "cell_type": "code",
      "metadata": {
        "id": "Vz3bEde3NeGx"
      },
      "source": [
        "follows.columns = ['to', 'name', 'username']"
      ],
      "execution_count": 50,
      "outputs": []
    },
    {
      "cell_type": "code",
      "metadata": {
        "id": "tQ4_Mjo9R0Vn"
      },
      "source": [
        "follows['from'] = users['id'][index]"
      ],
      "execution_count": 51,
      "outputs": []
    },
    {
      "cell_type": "code",
      "metadata": {
        "colab": {
          "base_uri": "https://localhost:8080/",
          "height": 109
        },
        "id": "q7Xp00qeR9u1",
        "outputId": "a43e2549-445e-460c-9e00-d48262a3a8f1"
      },
      "source": [
        "body = follows.to_json(orient = 'records')"
      ],
      "execution_count": 52,
      "outputs": [
        {
          "output_type": "execute_result",
          "data": {
            "application/vnd.google.colaboratory.intrinsic+json": {
              "type": "string"
            },
            "text/plain": [
              "'[{\"to\":\"982126734\",\"name\":\"\\\\u1d55\\\\u2240 \\\\u0320\\\\u1d55\",\"username\":\"wouldujustnot\",\"from\":1236893975488778241},{\"to\":\"977544986148274177\",\"name\":\"MJ\",\"username\":\"KIM_etal\",\"from\":1236893975488778241},{\"to\":\"150633655\",\"name\":\"Martin McKee\",\"username\":\"martinmckee\",\"from\":1236893975488778241},{\"to\":\"1181519339050156032\",\"name\":\"June\",\"username\":\"demipointe_139\",\"from\":1236893975488778241},{\"to\":\"188244198\",\"name\":\"jee\",\"username\":\"limjees\",\"from\":1236893975488778241},{\"to\":\"1209816676016873473\",\"name\":\"\\\\uba74\",\"username\":\"choimyeon\",\"from\":1236893975488778241},{\"to\":\"275551267\",\"name\":\"\\\\uae40\\\\uc5f0\\\\uacbd kim yeon koung\",\"username\":\"kimyk10\",\"from\":1236893975488778241},{\"to\":\"132762348\",\"name\":\"JOY\",\"username\":\"BF_cordwainer\",\"from\":1236893975488778241},{\"to\":\"151764715\",\"name\":\"\\\\uc0dd\\\\uac15\",\"username\":\"inkivaariyksi\",\"from\":1236893975488778241},{\"to\":\"43509988\",\"name\":\"tablo\",\"username\":\"blobyblo\",\"from\":1236893975488778241},{\"to\":\"2972799367\",\"name\":\"\\\\uc815\\\\ubc00\\\\uc544Jeongmilla\",\"username\":\"Jeong_milla\",\"from\":1236893975488778241},{\"to\":\"1289395515621179393\",\"name\":\"\\\\ub808\\\\uc774\\\\uc5b4\\\\ub4dc\",\"username\":\"LayeredInvest\",\"from\":1236893975488778241},{\"to\":\"1270959013648191490\",\"name\":\"\\\\uad8c\\\\uc778\\\\uc219\",\"username\":\"Insook_Kwon\",\"from\":1236893975488778241},{\"to\":\"937886702722465793\",\"name\":\"\\\\uae40\\\\ube0c\\\\ub9ac\",\"username\":\"kimbrie_\",\"from\":1236893975488778241},{\"to\":\"1087885045770027008\",\"name\":\"\\\\ub4e3\\\\ub611\\\\ub77c\",\"username\":\"listen_smart_\",\"from\":1236893975488778241},{\"to\":\"158409927\",\"name\":\"\\\\uc870\\\\uc9d5\",\"username\":\"zozingzing\",\"from\":1236893975488778241},{\"to\":\"2843173604\",\"name\":\"\\\\ud751\\\\uc601\",\"username\":\"jesuisombrenoir\",\"from\":1236893975488778241},{\"to\":\"53305769\",\"name\":\"Hyunho Shin\",\"username\":\"shinhh\",\"from\":1236893975488778241},{\"to\":\"168838944\",\"name\":\"\\\\ud30c\\\\uc211\\\\uc211\",\"username\":\"suresuresowhat\",\"from\":1236893975488778241},{\"to\":\"918826358691700736\",\"name\":\"\\\\uad81\\\\uae08\",\"username\":\"mina_table\",\"from\":1236893975488778241},{\"to\":\"86482203\",\"name\":\"\\\\uae40\\\\uc9c4\\\\uc560\",\"username\":\"jk_space\",\"from\":1236893975488778241},{\"to\":\"128304069\",\"name\":\"\\\\uc624\\\\uc9c0\\\\uc740\\\\ud83c\\\\udf3f\",\"username\":\"heaventomorrow\",\"from\":1236893975488778241},{\"to\":\"116168125\",\"name\":\"\\\\uc774\\\\uc774\\\\uc5b8\",\"username\":\"eaeon\",\"from\":1236893975488778241},{\"to\":\"261727021\",\"name\":\"\\\\uae40 \\\\uc580\",\"username\":\"babamba2020\",\"from\":1236893975488778241},{\"to\":\"3131144855\",\"name\":\"Boris Johnson\",\"username\":\"BorisJohnson\",\"from\":1236893975488778241},{\"to\":\"313099820\",\"name\":\"\\\\ub9e4\\\\uc5f0\\\\uacc4\\\\uace12\",\"username\":\"smokevalley2\",\"from\":1236893975488778241},{\"to\":\"161801527\",\"name\":\"Melinda French Gates\",\"username\":\"melindagates\",\"from\":1236893975488778241},{\"to\":\"17899109\",\"name\":\"Gates Foundation\",\"username\":\"gatesfoundation\",\"from\":1236893975488778241},{\"to\":\"50393960\",\"name\":\"Bill Gates\",\"username\":\"BillGates\",\"from\":1236893975488778241},{\"to\":\"813286\",\"name\":\"Barack Obama\",\"username\":\"BarackObama\",\"from\":1236893975488778241},{\"to\":\"1241778306204102656\",\"name\":\"\\\\ucd94\\\\uc801\\\\ub2e8\\\\ubd88\\\\uaf43\",\"username\":\"56flame\",\"from\":1236893975488778241},{\"to\":\"171901847\",\"name\":\"\\\\uc704\\\\uadfc\\\\uc6b0\",\"username\":\"guevara_99\",\"from\":1236893975488778241},{\"to\":\"117658308\",\"name\":\"\\\\uc815\\\\ud61c\\\\uc2e0\",\"username\":\"mindjj\",\"from\":1236893975488778241},{\"to\":\"166739404\",\"name\":\"Emma Watson\",\"username\":\"EmmaWatson\",\"from\":1236893975488778241},{\"to\":\"444465942\",\"name\":\"\\\\ubb38\\\\uc7ac\\\\uc778\",\"username\":\"moonriver365\",\"from\":1236893975488778241},{\"to\":\"144284168\",\"name\":\"JAY BUM PARK\",\"username\":\"JAYBUMAOM\",\"from\":1236893975488778241}]'"
            ]
          },
          "metadata": {},
          "execution_count": 52
        }
      ]
    },
    {
      "cell_type": "code",
      "metadata": {
        "id": "7NO-3uUHUGBm"
      },
      "source": [
        "# LAMBDA: s3.put_object(Body = body, Bucket = 'electiondatafile', Key = f'follows/{users[\"id\"][index]}.json')"
      ],
      "execution_count": null,
      "outputs": []
    },
    {
      "cell_type": "markdown",
      "metadata": {
        "id": "ma6de2cMUC02"
      },
      "source": [
        "# 5. Modify Key Settings"
      ]
    },
    {
      "cell_type": "code",
      "metadata": {
        "id": "BLPFhweqR-ak"
      },
      "source": [
        "keys['index'] = str(int(keys['index']) + 1)"
      ],
      "execution_count": 56,
      "outputs": []
    },
    {
      "cell_type": "code",
      "metadata": {
        "id": "NaNSsnFeUTyd"
      },
      "source": [
        "# LAMBDA: s3.put_object(Body = json.dumps(keys), Bucket = 'electiondatafile', Key = 'key.json')"
      ],
      "execution_count": 58,
      "outputs": []
    },
    {
      "cell_type": "code",
      "metadata": {
        "id": "Ik2LI24_XHDp"
      },
      "source": [
        ""
      ],
      "execution_count": null,
      "outputs": []
    }
  ]
}